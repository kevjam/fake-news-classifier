{
 "cells": [
  {
   "cell_type": "markdown",
   "metadata": {},
   "source": [
    "#  Resources Used"
   ]
  },
  {
   "cell_type": "markdown",
   "metadata": {},
   "source": [
    "- https://www.youtube.com/watch?v=lV09_8432VA - Optimizing with TensorBoard - Deep Learning w/ Python, TensorFlow & Keras p.5"
   ]
  },
  {
   "cell_type": "markdown",
   "metadata": {},
   "source": [
    "# Imports"
   ]
  },
  {
   "cell_type": "code",
   "execution_count": 1,
   "metadata": {},
   "outputs": [
    {
     "name": "stderr",
     "output_type": "stream",
     "text": [
      "Using TensorFlow backend.\n"
     ]
    }
   ],
   "source": [
    "# -------------- Modelling Packages --------------\n",
    "# For modeling\n",
    "from keras.models import Model\n",
    "from keras.layers import Concatenate, Input, Dense\n",
    "from keras.layers.recurrent import LSTM\n",
    "\n",
    "# Callback Functions\n",
    "from keras.callbacks import TensorBoard, ModelCheckpoint\n",
    "\n",
    "# For Timestamping Models\n",
    "import time\n",
    "\n",
    "# -------------- General Packages --------------\n",
    "# Data Manipulation\n",
    "import pandas as pd\n",
    "import numpy as np\n",
    "\n",
    "# For Saving Files\n",
    "import pickle\n",
    "import os"
   ]
  },
  {
   "cell_type": "markdown",
   "metadata": {},
   "source": [
    "# Loading The Dataset"
   ]
  },
  {
   "cell_type": "code",
   "execution_count": 2,
   "metadata": {},
   "outputs": [],
   "source": [
    "# Given the split dataset directory, return the train/test split\n",
    "def load_dataset(split_data_dir):\n",
    "    pickle_in = open(split_data_dir+'X_train.pickle','rb')\n",
    "    X_train = pickle.load(pickle_in)\n",
    "    \n",
    "    pickle_in = open(split_data_dir+'X_test.pickle','rb')\n",
    "    X_test = pickle.load(pickle_in)\n",
    "\n",
    "    pickle_in = open(split_data_dir+'y_train.pickle','rb')\n",
    "    y_train = pickle.load(pickle_in)\n",
    "\n",
    "    pickle_in = open(split_data_dir+'y_test.pickle','rb')\n",
    "    y_test = pickle.load(pickle_in)\n",
    "    \n",
    "    return X_train,X_test,y_train,y_test\n",
    "\n",
    "def load_tokenizer(tokenizer_dir)\n",
    "    pickle_in = open(tokenizer_dir,'rb')\n",
    "    t = pickle.load(pickle_in)\n",
    "    return t\n",
    "    \n",
    "split_data_dir = './split_data/'\n",
    "X_train,X_test,y_train,y_test = load_dataset(split_data_dir)\n",
    "\n",
    "tokenizer_dir = '.tokenizer.pickle'\n",
    "t = load_tokenizer(tokenizer_dir)"
   ]
  },
  {
   "cell_type": "markdown",
   "metadata": {},
   "source": [
    "# Parameters"
   ]
  },
  {
   "cell_type": "code",
   "execution_count": 6,
   "metadata": {},
   "outputs": [],
   "source": [
    "# -------------- Tokenizer Values --------------\n",
    "SENTENCE_SIZE = 20\n",
    "\n",
    "# -------------- Layer Size Parameters --------------\n",
    "LSTM_SIZE = 50\n",
    "DENSE_SIZE = 20\n",
    "\n",
    "\n",
    "# -------------- DIRECTORIES --------------\n",
    "MODEL_DIR = './models/'\n",
    "NAME = 'FN-{}S-{}LSTM-{}D-{}.hdf5'.format(SENTENCE_SIZE,LSTM_SIZE,DENSE_SIZE,time.time())\n",
    "log_dir = os.path.join(\"logs\",NAME)\n",
    "\n",
    "\n",
    "# -------------- Compile Parameters --------------\n",
    "activation = 'softmax'\n",
    "optimizer = 'RMSProp'\n",
    "loss = 'sparse_categorical_crossentropy'\n",
    "metrics = ['accuracy']\n",
    "\n",
    "# -------------- Callbacks --------------\n",
    "# access tensorboard from the command line: tensorboard --logdir logs/\n",
    "tensorboard = TensorBoard(log_dir=log_dir) \n",
    "checkpointer = ModelCheckpoint(MODEL_DIR+NAME, \n",
    "                               monitor='val_accuracy', \n",
    "                               verbose=1, \n",
    "                               save_best_only=True, \n",
    "                               mode='auto')\n",
    "callbacks=[tensorboard,checkpointer]\n",
    "\n",
    "\n",
    "# -------------- Fitting Parameters --------------\n",
    "epochs = 100\n",
    "batch_size = 128"
   ]
  },
  {
   "cell_type": "markdown",
   "metadata": {},
   "source": [
    "# Model Structure"
   ]
  },
  {
   "cell_type": "code",
   "execution_count": 11,
   "metadata": {},
   "outputs": [],
   "source": [
    "# FIRST MODEL: TITLE1_EN\n",
    "first_input = Input((SENTENCE_SIZE,1))\n",
    "first_LSTM = LSTM(LSTM_SIZE)(first_input)\n",
    "\n",
    "# SECOND MODEL: TITLE2_EN\n",
    "second_input = Input((SENTENCE_SIZE,1))\n",
    "second_LSTM = LSTM(LSTM_SIZE)(second_input)\n",
    "\n",
    "# MERGE MODEL\n",
    "merged = Concatenate(axis=1)([first_LSTM, second_LSTM])\n",
    "merged_dense = Dense(DENSE_SIZE)(merged)\n",
    "output_layer = Dense(3, activation='softmax')(merged_dense)\n",
    "\n",
    "model = Model(inputs=[first_input, second_input], outputs=output_layer)\n",
    "model.compile(optimizer=optimizer, loss=loss,metrics=metrics)"
   ]
  },
  {
   "cell_type": "markdown",
   "metadata": {},
   "source": [
    "# Training"
   ]
  },
  {
   "cell_type": "code",
   "execution_count": null,
   "metadata": {
    "scrolled": true
   },
   "outputs": [
    {
     "name": "stdout",
     "output_type": "stream",
     "text": [
      "Train on 14667 samples, validate on 5052 samples\n",
      "Epoch 1/100\n",
      "14667/14667 [==============================] - 10s 680us/step - loss: 1.0699 - accuracy: 0.4096 - val_loss: 1.0657 - val_accuracy: 0.4058\n",
      "\n",
      "Epoch 00001: val_accuracy did not improve from 0.50297\n",
      "Epoch 2/100\n",
      "14667/14667 [==============================] - 9s 605us/step - loss: 1.0477 - accuracy: 0.4339 - val_loss: 1.0490 - val_accuracy: 0.4192\n",
      "\n",
      "Epoch 00002: val_accuracy did not improve from 0.50297\n",
      "Epoch 3/100\n",
      "14667/14667 [==============================] - 9s 628us/step - loss: 1.0405 - accuracy: 0.4423 - val_loss: 1.0357 - val_accuracy: 0.4406\n",
      "\n",
      "Epoch 00003: val_accuracy did not improve from 0.50297\n",
      "Epoch 4/100\n",
      " 6016/14667 [===========>..................] - ETA: 4s - loss: 1.0354 - accuracy: 0.4470"
     ]
    }
   ],
   "source": [
    "os.makedirs(os.path.dirname(MODEL_DIR), exist_ok=True)\n",
    "\n",
    "# Training the model\n",
    "model.fit([X_train[:,:SENTENCE_SIZE], X_train[:,SENTENCE_SIZE:]], y_train,\n",
    "          epochs=epochs,\n",
    "          batch_size=batch_size,\n",
    "          validation_data=([X_test[:,:SENTENCE_SIZE], X_test[:,SENTENCE_SIZE:]], y_test),\n",
    "          callbacks=callbacks)"
   ]
  },
  {
   "cell_type": "markdown",
   "metadata": {},
   "source": [
    "# Predicting"
   ]
  },
  {
   "cell_type": "code",
   "execution_count": null,
   "metadata": {},
   "outputs": [],
   "source": [
    "#prediction = model.predict([X.iloc[0][:n].reshape(1,20,1),X[.loc[0][:n].reshape(1,20,1)])"
   ]
  }
 ],
 "metadata": {
  "kernelspec": {
   "display_name": "Python 3",
   "language": "python",
   "name": "python3"
  }
 },
 "nbformat": 4,
 "nbformat_minor": 2
}
