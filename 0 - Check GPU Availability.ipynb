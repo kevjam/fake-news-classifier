{
 "cells": [
  {
   "cell_type": "markdown",
   "metadata": {},
   "source": [
    "### Checking GPU Acceleration\n",
    "The following code will check if tensorflow is using GPU acceleration. **The GPU version of tensorflow should not be required to run any of the code**, but runtime will be significantly improved if used. \n",
    "\n",
    "If an error (not the else statement) is thrown then likely CUDA is not installed correctly / environment variables for CUDA are not set.<br/>If the else statement is reached, then CUDA is installed but tensorflow-gpu is not, and you simply have to uninstall tensorflow and install tensorflow-gpu.\n",
    "\n",
    "There are many guides online for installing tensorflow-gpu and it can get complicated depending on your GPU/OS support."
   ]
  },
  {
   "cell_type": "code",
   "execution_count": 1,
   "metadata": {},
   "outputs": [
    {
     "name": "stdout",
     "output_type": "stream",
     "text": [
      "Default GPU Device: /device:GPU:0\n"
     ]
    }
   ],
   "source": [
    "import tensorflow as tf\n",
    "if tf.test.gpu_device_name():\n",
    "    print('Default GPU Device: {}'.format(tf.test.gpu_device_name()))\n",
    "else:\n",
    "    print(\"Please install GPU version of TF\")"
   ]
  },
  {
   "cell_type": "markdown",
   "metadata": {},
   "source": [
    "If successful then the code should display something along the lines of 'Default GPU Device: /device:GPU:0'\n",
    "\n",
    "Code sourced from:\n",
    "https://stackoverflow.com/questions/38009682/how-to-tell-if-tensorflow-is-using-gpu-acceleration-from-inside-python-shell"
   ]
  }
 ],
 "metadata": {
  "kernelspec": {
   "display_name": "Python 3",
   "language": "python",
   "name": "python3"
  },
  "language_info": {
   "codemirror_mode": {
    "name": "ipython",
    "version": 3
   },
   "file_extension": ".py",
   "mimetype": "text/x-python",
   "name": "python",
   "nbconvert_exporter": "python",
   "pygments_lexer": "ipython3",
   "version": "3.7.3"
  }
 },
 "nbformat": 4,
 "nbformat_minor": 2
}
