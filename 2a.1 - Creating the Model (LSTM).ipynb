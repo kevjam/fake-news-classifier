{
 "cells": [
  {
   "cell_type": "markdown",
   "metadata": {},
   "source": [
    "#  Resources Used"
   ]
  },
  {
   "cell_type": "markdown",
   "metadata": {},
   "source": [
    "- https://www.youtube.com/watch?v=lV09_8432VA - Optimizing with TensorBoard - Deep Learning w/ Python, TensorFlow & Keras p.5"
   ]
  },
  {
   "cell_type": "markdown",
   "metadata": {},
   "source": [
    "# Imports"
   ]
  },
  {
   "cell_type": "code",
   "execution_count": 9,
   "metadata": {},
   "outputs": [],
   "source": [
    "# -------------- Modelling Packages --------------\n",
    "# For modeling\n",
    "from keras.models import Model\n",
    "from keras.layers import Concatenate, Input, Dense, Embedding\n",
    "from keras.layers import LSTM, Bidirectional, SpatialDropout1D\n",
    "from keras.layers import TimeDistributed\n",
    "\n",
    "# Callback Functions\n",
    "from keras.callbacks import TensorBoard, ModelCheckpoint, EarlyStopping\n",
    "\n",
    "# For Timestamping Models\n",
    "import time\n",
    "\n",
    "# -------------- General Packages --------------\n",
    "# Data Manipulation\n",
    "import pandas as pd\n",
    "import numpy as np\n",
    "\n",
    "# For Saving Files\n",
    "import pickle\n",
    "import os\n",
    "\n",
    "from sklearn.utils import class_weight"
   ]
  },
  {
   "cell_type": "markdown",
   "metadata": {},
   "source": [
    "# Loading The Dataset"
   ]
  },
  {
   "cell_type": "code",
   "execution_count": 10,
   "metadata": {},
   "outputs": [],
   "source": [
    "# Given the split dataset directory, return the train/test split\n",
    "def load_dataset(split_data_dir):\n",
    "    pickle_in = open(split_data_dir+'X_train.pickle','rb')\n",
    "    X_train = pickle.load(pickle_in)\n",
    "    \n",
    "    pickle_in = open(split_data_dir+'X_test.pickle','rb')\n",
    "    X_test = pickle.load(pickle_in)\n",
    "\n",
    "    pickle_in = open(split_data_dir+'y_train.pickle','rb')\n",
    "    y_train = pickle.load(pickle_in)\n",
    "\n",
    "    pickle_in = open(split_data_dir+'y_test.pickle','rb')\n",
    "    y_test = pickle.load(pickle_in)\n",
    "    return X_train,X_test,y_train,y_test\n",
    "\n",
    "def load_tokenizer(tokenizer_dir):\n",
    "    pickle_in = open(tokenizer_dir,'rb')\n",
    "    t = pickle.load(pickle_in)\n",
    "    return t\n",
    "    \n",
    "split_data_dir = './split_data/'\n",
    "X_train,X_test,y_train,y_test = load_dataset(split_data_dir)\n",
    "\n",
    "tokenizer_dir = 'tokenizer.pickle'\n",
    "t = load_tokenizer(tokenizer_dir)"
   ]
  },
  {
   "cell_type": "markdown",
   "metadata": {},
   "source": [
    "# Parameters"
   ]
  },
  {
   "cell_type": "code",
   "execution_count": 11,
   "metadata": {},
   "outputs": [],
   "source": [
    "# -------------- Tokenizer Values --------------\n",
    "SENTENCE_SIZE = int(X_train.shape[1]/2)\n",
    "vocab_size = len(t.word_index) + 1"
   ]
  },
  {
   "cell_type": "markdown",
   "metadata": {},
   "source": [
    "https://datascience.stackexchange.com/questions/13490/how-to-set-class-weights-for-imbalanced-classes-in-keras"
   ]
  },
  {
   "cell_type": "code",
   "execution_count": 12,
   "metadata": {},
   "outputs": [],
   "source": [
    "class_weights = class_weight.compute_class_weight('balanced',\n",
    "                                                 np.unique(y_train),\n",
    "                                                 y_train)"
   ]
  },
  {
   "cell_type": "code",
   "execution_count": 13,
   "metadata": {},
   "outputs": [],
   "source": [
    "# -------------- Layer Size Parameters --------------\n",
    "EMBED_SIZE = 100\n",
    "LSTM_SIZE = 20\n",
    "DROPOUT_SIZE = 0.3\n",
    "\n",
    "# -------------- DIRECTORIES --------------\n",
    "MODEL_DIR = './models/'\n",
    "NAME = 'LSTM-{}E-{}L-{}Dropout-{}.hdf5'.format(EMBED_SIZE,LSTM_SIZE,DROPOUT_SIZE,time.time())\n",
    "log_dir = os.path.join(\"logs\",NAME)\n",
    "\n",
    "\n",
    "# -------------- Compile Parameters --------------\n",
    "activation = 'softmax'\n",
    "optimizer = 'RMSProp'\n",
    "loss = 'sparse_categorical_crossentropy'\n",
    "metrics = ['accuracy']\n",
    "\n",
    "# -------------- Callbacks --------------\n",
    "# access tensorboard from the command line: tensorboard --logdir logs/\n",
    "tensorboard = TensorBoard(log_dir=log_dir) \n",
    "checkpointer = ModelCheckpoint(MODEL_DIR+NAME, \n",
    "                               monitor='val_accuracy', \n",
    "                               verbose=1, \n",
    "                               save_best_only=True, \n",
    "                               mode='auto')\n",
    "earlystop = EarlyStopping(monitor='val_loss', patience=3)\n",
    "\n",
    "callbacks=[tensorboard,checkpointer,earlystop]\n",
    "\n",
    "\n",
    "# -------------- Fitting Parameters --------------\n",
    "epochs = 100\n",
    "batch_size = 5000"
   ]
  },
  {
   "cell_type": "markdown",
   "metadata": {},
   "source": [
    "# Model Structure"
   ]
  },
  {
   "cell_type": "code",
   "execution_count": 14,
   "metadata": {},
   "outputs": [],
   "source": [
    "# FIRST MODEL: TITLE1_EN\n",
    "first_input = Input(shape=(SENTENCE_SIZE,))\n",
    "m1 = Embedding(vocab_size,\n",
    "                EMBED_SIZE,\n",
    "                input_length=SENTENCE_SIZE)(first_input)\n",
    "m1 = SpatialDropout1D(DROPOUT_SIZE)(m1)\n",
    "m1 = LSTM(LSTM_SIZE,dropout=DROPOUT_SIZE, recurrent_dropout=DROPOUT_SIZE)(m1)\n",
    "\n",
    "# SECOND MODEL: TITLE2_EN\n",
    "second_input = Input(shape=(SENTENCE_SIZE,))\n",
    "m2 = Embedding(vocab_size,\n",
    "                 EMBED_SIZE,\n",
    "                 input_length=SENTENCE_SIZE)(second_input)\n",
    "m2 = SpatialDropout1D(DROPOUT_SIZE)(m2)\n",
    "m2 = LSTM(LSTM_SIZE,dropout=DROPOUT_SIZE, recurrent_dropout=DROPOUT_SIZE)(m2)\n",
    "\n",
    "# MERGE MODEL\n",
    "merged = Concatenate(axis=1)([m1, m2])\n",
    "merged = Dense(3, activation='softmax')(merged)\n",
    "\n",
    "model = Model(inputs=[first_input, second_input], outputs=merged)\n",
    "model.compile(optimizer=optimizer, loss=loss,metrics=metrics)"
   ]
  },
  {
   "cell_type": "code",
   "execution_count": 15,
   "metadata": {},
   "outputs": [
    {
     "name": "stdout",
     "output_type": "stream",
     "text": [
      "Model: \"model_2\"\n",
      "__________________________________________________________________________________________________\n",
      "Layer (type)                    Output Shape         Param #     Connected to                     \n",
      "==================================================================================================\n",
      "input_3 (InputLayer)            (None, 25)           0                                            \n",
      "__________________________________________________________________________________________________\n",
      "input_4 (InputLayer)            (None, 25)           0                                            \n",
      "__________________________________________________________________________________________________\n",
      "embedding_3 (Embedding)         (None, 25, 100)      4722000     input_3[0][0]                    \n",
      "__________________________________________________________________________________________________\n",
      "embedding_4 (Embedding)         (None, 25, 100)      4722000     input_4[0][0]                    \n",
      "__________________________________________________________________________________________________\n",
      "spatial_dropout1d_3 (SpatialDro (None, 25, 100)      0           embedding_3[0][0]                \n",
      "__________________________________________________________________________________________________\n",
      "spatial_dropout1d_4 (SpatialDro (None, 25, 100)      0           embedding_4[0][0]                \n",
      "__________________________________________________________________________________________________\n",
      "lstm_3 (LSTM)                   (None, 20)           9680        spatial_dropout1d_3[0][0]        \n",
      "__________________________________________________________________________________________________\n",
      "lstm_4 (LSTM)                   (None, 20)           9680        spatial_dropout1d_4[0][0]        \n",
      "__________________________________________________________________________________________________\n",
      "concatenate_2 (Concatenate)     (None, 40)           0           lstm_3[0][0]                     \n",
      "                                                                 lstm_4[0][0]                     \n",
      "__________________________________________________________________________________________________\n",
      "dense_2 (Dense)                 (None, 3)            123         concatenate_2[0][0]              \n",
      "==================================================================================================\n",
      "Total params: 9,463,483\n",
      "Trainable params: 9,463,483\n",
      "Non-trainable params: 0\n",
      "__________________________________________________________________________________________________\n"
     ]
    }
   ],
   "source": [
    "model.summary()"
   ]
  },
  {
   "cell_type": "markdown",
   "metadata": {},
   "source": [
    "# Training"
   ]
  },
  {
   "cell_type": "code",
   "execution_count": 16,
   "metadata": {
    "scrolled": false
   },
   "outputs": [
    {
     "name": "stderr",
     "output_type": "stream",
     "text": [
      "C:\\Users\\kevin\\Anaconda3\\lib\\site-packages\\tensorflow_core\\python\\framework\\indexed_slices.py:424: UserWarning: Converting sparse IndexedSlices to a dense Tensor of unknown shape. This may consume a large amount of memory.\n",
      "  \"Converting sparse IndexedSlices to a dense Tensor of unknown shape. \"\n"
     ]
    },
    {
     "name": "stdout",
     "output_type": "stream",
     "text": [
      "Train on 192221 samples, validate on 64087 samples\n",
      "Epoch 1/100\n",
      "192221/192221 [==============================] - 30s 157us/step - loss: 0.7625 - accuracy: 0.6731 - val_loss: 0.6525 - val_accuracy: 0.6968\n",
      "\n",
      "Epoch 00001: val_accuracy improved from -inf to 0.69680, saving model to ./models/LSTM-100E-20L-0.3Dropout-1572983945.3691528.hdf5\n",
      "Epoch 2/100\n",
      "192221/192221 [==============================] - 27s 141us/step - loss: 0.6070 - accuracy: 0.7185 - val_loss: 0.5584 - val_accuracy: 0.7521\n",
      "\n",
      "Epoch 00002: val_accuracy improved from 0.69680 to 0.75212, saving model to ./models/LSTM-100E-20L-0.3Dropout-1572983945.3691528.hdf5\n",
      "Epoch 3/100\n",
      "192221/192221 [==============================] - 27s 140us/step - loss: 0.5293 - accuracy: 0.7607 - val_loss: 0.5083 - val_accuracy: 0.7709\n",
      "\n",
      "Epoch 00003: val_accuracy improved from 0.75212 to 0.77086, saving model to ./models/LSTM-100E-20L-0.3Dropout-1572983945.3691528.hdf5\n",
      "Epoch 4/100\n",
      "192221/192221 [==============================] - 27s 139us/step - loss: 0.4807 - accuracy: 0.7823 - val_loss: 0.4830 - val_accuracy: 0.7790\n",
      "\n",
      "Epoch 00004: val_accuracy improved from 0.77086 to 0.77903, saving model to ./models/LSTM-100E-20L-0.3Dropout-1572983945.3691528.hdf5\n",
      "Epoch 5/100\n",
      "192221/192221 [==============================] - 27s 139us/step - loss: 0.4474 - accuracy: 0.7994 - val_loss: 0.4635 - val_accuracy: 0.7937\n",
      "\n",
      "Epoch 00005: val_accuracy improved from 0.77903 to 0.79370, saving model to ./models/LSTM-100E-20L-0.3Dropout-1572983945.3691528.hdf5\n",
      "Epoch 6/100\n",
      "192221/192221 [==============================] - 27s 139us/step - loss: 0.4236 - accuracy: 0.8109 - val_loss: 0.4557 - val_accuracy: 0.7964\n",
      "\n",
      "Epoch 00006: val_accuracy improved from 0.79370 to 0.79637, saving model to ./models/LSTM-100E-20L-0.3Dropout-1572983945.3691528.hdf5\n",
      "Epoch 7/100\n",
      "192221/192221 [==============================] - 27s 139us/step - loss: 0.4044 - accuracy: 0.8205 - val_loss: 0.4552 - val_accuracy: 0.8016\n",
      "\n",
      "Epoch 00007: val_accuracy improved from 0.79637 to 0.80160, saving model to ./models/LSTM-100E-20L-0.3Dropout-1572983945.3691528.hdf5\n",
      "Epoch 8/100\n",
      "192221/192221 [==============================] - 27s 139us/step - loss: 0.3876 - accuracy: 0.8304 - val_loss: 0.4437 - val_accuracy: 0.8052\n",
      "\n",
      "Epoch 00008: val_accuracy improved from 0.80160 to 0.80516, saving model to ./models/LSTM-100E-20L-0.3Dropout-1572983945.3691528.hdf5\n",
      "Epoch 9/100\n",
      "192221/192221 [==============================] - 27s 139us/step - loss: 0.3749 - accuracy: 0.8357 - val_loss: 0.4532 - val_accuracy: 0.8068\n",
      "\n",
      "Epoch 00009: val_accuracy improved from 0.80516 to 0.80678, saving model to ./models/LSTM-100E-20L-0.3Dropout-1572983945.3691528.hdf5\n",
      "Epoch 10/100\n",
      "192221/192221 [==============================] - 27s 139us/step - loss: 0.3618 - accuracy: 0.8428 - val_loss: 0.4526 - val_accuracy: 0.8074\n",
      "\n",
      "Epoch 00010: val_accuracy improved from 0.80678 to 0.80739, saving model to ./models/LSTM-100E-20L-0.3Dropout-1572983945.3691528.hdf5\n",
      "Epoch 11/100\n",
      "192221/192221 [==============================] - 27s 139us/step - loss: 0.3504 - accuracy: 0.8482 - val_loss: 0.4370 - val_accuracy: 0.8106\n",
      "\n",
      "Epoch 00011: val_accuracy improved from 0.80739 to 0.81065, saving model to ./models/LSTM-100E-20L-0.3Dropout-1572983945.3691528.hdf5\n",
      "Epoch 12/100\n",
      "192221/192221 [==============================] - 27s 139us/step - loss: 0.3407 - accuracy: 0.8526 - val_loss: 0.4405 - val_accuracy: 0.8149\n",
      "\n",
      "Epoch 00012: val_accuracy improved from 0.81065 to 0.81488, saving model to ./models/LSTM-100E-20L-0.3Dropout-1572983945.3691528.hdf5\n",
      "Epoch 13/100\n",
      "192221/192221 [==============================] - 27s 139us/step - loss: 0.3314 - accuracy: 0.8573 - val_loss: 0.4394 - val_accuracy: 0.8120\n",
      "\n",
      "Epoch 00013: val_accuracy did not improve from 0.81488\n",
      "Epoch 14/100\n",
      "192221/192221 [==============================] - 27s 138us/step - loss: 0.3226 - accuracy: 0.8621 - val_loss: 0.4389 - val_accuracy: 0.8168\n",
      "\n",
      "Epoch 00014: val_accuracy improved from 0.81488 to 0.81680, saving model to ./models/LSTM-100E-20L-0.3Dropout-1572983945.3691528.hdf5\n"
     ]
    },
    {
     "data": {
      "text/plain": [
       "<keras.callbacks.callbacks.History at 0x1912257dc18>"
      ]
     },
     "execution_count": 16,
     "metadata": {},
     "output_type": "execute_result"
    }
   ],
   "source": [
    "os.makedirs(os.path.dirname(MODEL_DIR), exist_ok=True)\n",
    "\n",
    "# Training the model\n",
    "model.fit([X_train[:,:SENTENCE_SIZE], X_train[:,SENTENCE_SIZE:]], y_train,\n",
    "          epochs=epochs,\n",
    "          batch_size=batch_size,\n",
    "          validation_data=([X_test[:,:SENTENCE_SIZE], X_test[:,SENTENCE_SIZE:]], y_test),\n",
    "          callbacks=callbacks,\n",
    "          class_weight=class_weights)"
   ]
  },
  {
   "cell_type": "markdown",
   "metadata": {},
   "source": [
    "# Prediction"
   ]
  },
  {
   "cell_type": "code",
   "execution_count": 30,
   "metadata": {},
   "outputs": [],
   "source": [
    "index = 100\n",
    "\n",
    "first_sentence = X_train[index][:SENTENCE_SIZE].reshape(1,SENTENCE_SIZE)\n",
    "second_sentence = X_train[index][SENTENCE_SIZE:SENTENCE_SIZE*2].reshape(1,SENTENCE_SIZE)\n",
    "\n",
    "prediction = model.predict([first_sentence,second_sentence])"
   ]
  },
  {
   "cell_type": "code",
   "execution_count": 31,
   "metadata": {},
   "outputs": [
    {
     "data": {
      "text/plain": [
       "[1, 0, 0]"
      ]
     },
     "execution_count": 31,
     "metadata": {},
     "output_type": "execute_result"
    }
   ],
   "source": [
    "prediction_list = [int(round(p)) for p in prediction[0]]\n",
    "prediction_list"
   ]
  },
  {
   "cell_type": "code",
   "execution_count": 32,
   "metadata": {},
   "outputs": [
    {
     "data": {
      "text/plain": [
       "0"
      ]
     },
     "execution_count": 32,
     "metadata": {},
     "output_type": "execute_result"
    }
   ],
   "source": [
    "np.argmax(prediction_list)"
   ]
  },
  {
   "cell_type": "code",
   "execution_count": 33,
   "metadata": {},
   "outputs": [
    {
     "data": {
      "text/plain": [
       "0"
      ]
     },
     "execution_count": 33,
     "metadata": {},
     "output_type": "execute_result"
    }
   ],
   "source": [
    "y_train[index]"
   ]
  },
  {
   "cell_type": "code",
   "execution_count": null,
   "metadata": {},
   "outputs": [],
   "source": []
  }
 ],
 "metadata": {
  "kernelspec": {
   "display_name": "Python 3",
   "language": "python",
   "name": "python3"
  },
  "language_info": {
   "codemirror_mode": {
    "name": "ipython",
    "version": 3
   },
   "file_extension": ".py",
   "mimetype": "text/x-python",
   "name": "python",
   "nbconvert_exporter": "python",
   "pygments_lexer": "ipython3",
   "version": "3.7.3"
  }
 },
 "nbformat": 4,
 "nbformat_minor": 2
}
