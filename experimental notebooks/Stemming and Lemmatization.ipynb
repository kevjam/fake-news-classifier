{
 "cells": [
  {
   "cell_type": "markdown",
   "metadata": {},
   "source": [
    "# Lemmatization\n",
    "\n",
    "Lemmatization involves simplifying words to their base/stem.\n",
    "\n",
    "i.e. running -> run, cats -> cat\n",
    "\n",
    "This is useful for language processing as we can reduce complexity of sentence structure and compare similar words easier."
   ]
  },
  {
   "cell_type": "markdown",
   "metadata": {},
   "source": [
    "# Imports\n",
    "\n",
    "The nltk wordnet needs to be downloaded in order for its lemmatizer to be used.\n",
    "\n",
    "nltk.download('wordnet') should return **True** if successful."
   ]
  },
  {
   "cell_type": "code",
   "execution_count": 6,
   "metadata": {},
   "outputs": [
    {
     "name": "stdout",
     "output_type": "stream",
     "text": [
      "True\n",
      "True\n"
     ]
    },
    {
     "name": "stderr",
     "output_type": "stream",
     "text": [
      "[nltk_data] Downloading package wordnet to\n",
      "[nltk_data]     C:\\Users\\kevin\\AppData\\Roaming\\nltk_data...\n",
      "[nltk_data]   Package wordnet is already up-to-date!\n",
      "[nltk_data] Downloading package averaged_perceptron_tagger to\n",
      "[nltk_data]     C:\\Users\\kevin\\AppData\\Roaming\\nltk_data...\n",
      "[nltk_data]   Package averaged_perceptron_tagger is already up-to-\n",
      "[nltk_data]       date!\n"
     ]
    }
   ],
   "source": [
    "import nltk\n",
    "import pandas as pd\n",
    "\n",
    "print(nltk.download('wordnet'))\n",
    "print(nltk.download('averaged_perceptron_tagger'))"
   ]
  },
  {
   "cell_type": "code",
   "execution_count": 7,
   "metadata": {},
   "outputs": [],
   "source": [
    "lemmatizer = nltk.stem.WordNetLemmatizer()\n",
    "stemmatizer = nltk.stem.snowball.SnowballStemmer('english')"
   ]
  },
  {
   "cell_type": "code",
   "execution_count": 8,
   "metadata": {},
   "outputs": [
    {
     "data": {
      "text/html": [
       "<div>\n",
       "<style scoped>\n",
       "    .dataframe tbody tr th:only-of-type {\n",
       "        vertical-align: middle;\n",
       "    }\n",
       "\n",
       "    .dataframe tbody tr th {\n",
       "        vertical-align: top;\n",
       "    }\n",
       "\n",
       "    .dataframe thead th {\n",
       "        text-align: right;\n",
       "    }\n",
       "</style>\n",
       "<table border=\"1\" class=\"dataframe\">\n",
       "  <thead>\n",
       "    <tr style=\"text-align: right;\">\n",
       "      <th></th>\n",
       "      <th>title1_en</th>\n",
       "      <th>title1_en_lemmatized</th>\n",
       "      <th>title1_en_stemmatized</th>\n",
       "    </tr>\n",
       "  </thead>\n",
       "  <tbody>\n",
       "    <tr>\n",
       "      <th>0</th>\n",
       "      <td>There are a lot of rocks</td>\n",
       "      <td>There are a lot of rock</td>\n",
       "      <td>there are a lot of rock</td>\n",
       "    </tr>\n",
       "    <tr>\n",
       "      <th>1</th>\n",
       "      <td>I fell into some cacti</td>\n",
       "      <td>I fell into some cactus</td>\n",
       "      <td>i fell into some cacti</td>\n",
       "    </tr>\n",
       "    <tr>\n",
       "      <th>2</th>\n",
       "      <td>I went for a run</td>\n",
       "      <td>I went for a run</td>\n",
       "      <td>i went for a run</td>\n",
       "    </tr>\n",
       "    <tr>\n",
       "      <th>3</th>\n",
       "      <td>John and I went to the store today</td>\n",
       "      <td>John and I went to the store today</td>\n",
       "      <td>john and i went to the store today</td>\n",
       "    </tr>\n",
       "    <tr>\n",
       "      <th>4</th>\n",
       "      <td>I'm better at running</td>\n",
       "      <td>I'm better at running</td>\n",
       "      <td>i'm better at run</td>\n",
       "    </tr>\n",
       "  </tbody>\n",
       "</table>\n",
       "</div>"
      ],
      "text/plain": [
       "                            title1_en                title1_en_lemmatized  \\\n",
       "0            There are a lot of rocks             There are a lot of rock   \n",
       "1              I fell into some cacti             I fell into some cactus   \n",
       "2                    I went for a run                    I went for a run   \n",
       "3  John and I went to the store today  John and I went to the store today   \n",
       "4               I'm better at running               I'm better at running   \n",
       "\n",
       "                title1_en_stemmatized  \n",
       "0             there are a lot of rock  \n",
       "1              i fell into some cacti  \n",
       "2                    i went for a run  \n",
       "3  john and i went to the store today  \n",
       "4                   i'm better at run  "
      ]
     },
     "execution_count": 8,
     "metadata": {},
     "output_type": "execute_result"
    }
   ],
   "source": [
    "df = pd.DataFrame()\n",
    "df['title1_en'] = ['There are a lot of rocks',\n",
    "                   'I fell into some cacti',\n",
    "                   'I went for a run',\n",
    "                   'John and I went to the store today',\n",
    "                   'I\\'m better at running']\n",
    "\n",
    "def lemmatize_df_col(text):\n",
    "    return ' '.join([lemmatizer.lemmatize(w) for w in text.split()])\n",
    "\n",
    "def stemmatize_df_col(text):\n",
    "    return ' '.join([stemmatizer.stem(w) for w in text.split()])\n",
    "\n",
    "df['title1_en_lemmatized'] = df.title1_en.apply(lemmatize_df_col)\n",
    "df['title1_en_stemmatized'] = df.title1_en.apply(stemmatize_df_col)\n",
    "\n",
    "df"
   ]
  },
  {
   "cell_type": "markdown",
   "metadata": {},
   "source": [
    "# Finding the pos tag\n",
    "\n",
    "NLTK also includes an automatic POS tagger"
   ]
  },
  {
   "cell_type": "code",
   "execution_count": 9,
   "metadata": {},
   "outputs": [
    {
     "data": {
      "text/plain": [
       "[('Hello', 'NNP'),\n",
       " ('how', 'WRB'),\n",
       " ('are', 'VBP'),\n",
       " ('you', 'PRP'),\n",
       " ('doing', 'VBG')]"
      ]
     },
     "execution_count": 9,
     "metadata": {},
     "output_type": "execute_result"
    }
   ],
   "source": [
    "nltk.tag.pos_tag(['Hello','how','are','you','doing'])"
   ]
  },
  {
   "cell_type": "code",
   "execution_count": 10,
   "metadata": {},
   "outputs": [
    {
     "data": {
      "text/html": [
       "<div>\n",
       "<style scoped>\n",
       "    .dataframe tbody tr th:only-of-type {\n",
       "        vertical-align: middle;\n",
       "    }\n",
       "\n",
       "    .dataframe tbody tr th {\n",
       "        vertical-align: top;\n",
       "    }\n",
       "\n",
       "    .dataframe thead th {\n",
       "        text-align: right;\n",
       "    }\n",
       "</style>\n",
       "<table border=\"1\" class=\"dataframe\">\n",
       "  <thead>\n",
       "    <tr style=\"text-align: right;\">\n",
       "      <th></th>\n",
       "      <th>title1_en</th>\n",
       "      <th>title1_en_lemmatized</th>\n",
       "      <th>title1_en_stemmatized</th>\n",
       "      <th>title1_en_lemmatized_tagged</th>\n",
       "    </tr>\n",
       "  </thead>\n",
       "  <tbody>\n",
       "    <tr>\n",
       "      <th>0</th>\n",
       "      <td>There are a lot of rocks</td>\n",
       "      <td>There are a lot of rock</td>\n",
       "      <td>there are a lot of rock</td>\n",
       "      <td>There be a lot of rock</td>\n",
       "    </tr>\n",
       "    <tr>\n",
       "      <th>1</th>\n",
       "      <td>I fell into some cacti</td>\n",
       "      <td>I fell into some cactus</td>\n",
       "      <td>i fell into some cacti</td>\n",
       "      <td>I fell into some cactus</td>\n",
       "    </tr>\n",
       "    <tr>\n",
       "      <th>2</th>\n",
       "      <td>I went for a run</td>\n",
       "      <td>I went for a run</td>\n",
       "      <td>i went for a run</td>\n",
       "      <td>I go for a run</td>\n",
       "    </tr>\n",
       "    <tr>\n",
       "      <th>3</th>\n",
       "      <td>John and I went to the store today</td>\n",
       "      <td>John and I went to the store today</td>\n",
       "      <td>john and i went to the store today</td>\n",
       "      <td>John and I go to the store today</td>\n",
       "    </tr>\n",
       "    <tr>\n",
       "      <th>4</th>\n",
       "      <td>I'm better at running</td>\n",
       "      <td>I'm better at running</td>\n",
       "      <td>i'm better at run</td>\n",
       "      <td>I'm good at run</td>\n",
       "    </tr>\n",
       "  </tbody>\n",
       "</table>\n",
       "</div>"
      ],
      "text/plain": [
       "                            title1_en                title1_en_lemmatized  \\\n",
       "0            There are a lot of rocks             There are a lot of rock   \n",
       "1              I fell into some cacti             I fell into some cactus   \n",
       "2                    I went for a run                    I went for a run   \n",
       "3  John and I went to the store today  John and I went to the store today   \n",
       "4               I'm better at running               I'm better at running   \n",
       "\n",
       "                title1_en_stemmatized       title1_en_lemmatized_tagged  \n",
       "0             there are a lot of rock            There be a lot of rock  \n",
       "1              i fell into some cacti           I fell into some cactus  \n",
       "2                    i went for a run                    I go for a run  \n",
       "3  john and i went to the store today  John and I go to the store today  \n",
       "4                   i'm better at run                   I'm good at run  "
      ]
     },
     "execution_count": 10,
     "metadata": {},
     "output_type": "execute_result"
    }
   ],
   "source": [
    "def lemmatize_df_col_tagged(text,lemmatizer):\n",
    "    words = []\n",
    "    for word,tag in nltk.tag.pos_tag(text.split()):\n",
    "        if tag.startswith(\"NN\"):\n",
    "            word = lemmatizer.lemmatize(word, pos='n')\n",
    "        elif tag.startswith('VB'):\n",
    "            word = lemmatizer.lemmatize(word, pos='v')\n",
    "        elif tag.startswith('JJ'):\n",
    "            word = lemmatizer.lemmatize(word, pos='a')\n",
    "        words.append(word)\n",
    "    return ' '.join(words)\n",
    "\n",
    "df['title1_en_lemmatized_tagged'] = df.title1_en.apply(lemmatize_df_col_tagged, lemmatizer=lemmatizer)\n",
    "df"
   ]
  }
 ],
 "metadata": {
  "kernelspec": {
   "display_name": "Python 3",
   "language": "python",
   "name": "python3"
  },
  "language_info": {
   "codemirror_mode": {
    "name": "ipython",
    "version": 3
   },
   "file_extension": ".py",
   "mimetype": "text/x-python",
   "name": "python",
   "nbconvert_exporter": "python",
   "pygments_lexer": "ipython3",
   "version": "3.7.3"
  }
 },
 "nbformat": 4,
 "nbformat_minor": 2
}
