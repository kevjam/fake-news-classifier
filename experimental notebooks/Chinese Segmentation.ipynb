{
 "cells": [
  {
   "cell_type": "markdown",
   "metadata": {},
   "source": [
    "https://pypi.org/project/jieba/"
   ]
  },
  {
   "cell_type": "code",
   "execution_count": 9,
   "metadata": {},
   "outputs": [],
   "source": [
    "import jieba\n",
    "import pandas as pd"
   ]
  },
  {
   "cell_type": "code",
   "execution_count": 10,
   "metadata": {},
   "outputs": [
    {
     "name": "stderr",
     "output_type": "stream",
     "text": [
      "b'Skipping line 7026: expected 8 fields, saw 9\\nSkipping line 44341: expected 8 fields, saw 9\\nSkipping line 58784: expected 8 fields, saw 10\\n'\n",
      "b'Skipping line 99101: expected 8 fields, saw 10\\nSkipping line 104716: expected 8 fields, saw 9\\nSkipping line 127866: expected 8 fields, saw 10\\n'\n",
      "b'Skipping line 140436: expected 8 fields, saw 9\\nSkipping line 152888: expected 8 fields, saw 11\\n'\n"
     ]
    }
   ],
   "source": [
    "input_train = '../data/train.csv'\n",
    "df_train = pd.read_csv(input_train,encoding='utf-8-sig',error_bad_lines=False)"
   ]
  },
  {
   "cell_type": "code",
   "execution_count": 19,
   "metadata": {},
   "outputs": [],
   "source": [
    "def segment_zh(text):\n",
    "    return ' '.join(jieba.cut(text, cut_all=False))"
   ]
  },
  {
   "cell_type": "code",
   "execution_count": 22,
   "metadata": {},
   "outputs": [
    {
     "data": {
      "text/plain": [
       "0          有人说空心菜是蔬菜里的“毒中之王”，还能放心吃吗？\n",
       "1     偷偷爆料，药店有一种便宜乳膏，每天睡前涂点，保管50岁没眼袋\n",
       "2    就在刚刚23:28分，中国股市再爆惊天消息：工商银行 鞍钢股份\n",
       "3                二战各国军队战斗力排行，谁是最强大军团\n",
       "4          发现医学奇迹：喝红酒的神奇功效——居然能抗癌、延寿\n",
       "Name: title1_zh, dtype: object"
      ]
     },
     "execution_count": 22,
     "metadata": {},
     "output_type": "execute_result"
    }
   ],
   "source": [
    "df_train[:5].title1_zh"
   ]
  },
  {
   "cell_type": "code",
   "execution_count": 23,
   "metadata": {},
   "outputs": [
    {
     "data": {
      "text/plain": [
       "0           有人 说 空心菜 是 蔬菜 里 的 “ 毒中 之王 ” ， 还 能 放心 吃 吗 ？\n",
       "1      偷偷 爆料 ， 药店 有 一种 便宜 乳膏 ， 每天 睡前 涂点 ， 保管 50 岁 没 眼袋\n",
       "2    就 在 刚刚 23 : 28 分 ， 中国 股市 再 爆 惊天 消息 ： 工商银行   鞍钢 股份\n",
       "3                        二战 各国 军队 战斗力 排行 ， 谁 是 最 强大 军团\n",
       "4             发现 医学 奇迹 ： 喝 红酒 的 神奇 功效 — — 居然 能 抗癌 、 延寿\n",
       "Name: title1_zh, dtype: object"
      ]
     },
     "execution_count": 23,
     "metadata": {},
     "output_type": "execute_result"
    }
   ],
   "source": [
    "df_train[:5].title1_zh.apply(segment_zh)"
   ]
  },
  {
   "cell_type": "code",
   "execution_count": null,
   "metadata": {},
   "outputs": [],
   "source": []
  }
 ],
 "metadata": {
  "kernelspec": {
   "display_name": "Python 3",
   "language": "python",
   "name": "python3"
  },
  "language_info": {
   "codemirror_mode": {
    "name": "ipython",
    "version": 3
   },
   "file_extension": ".py",
   "mimetype": "text/x-python",
   "name": "python",
   "nbconvert_exporter": "python",
   "pygments_lexer": "ipython3",
   "version": "3.7.3"
  }
 },
 "nbformat": 4,
 "nbformat_minor": 2
}
