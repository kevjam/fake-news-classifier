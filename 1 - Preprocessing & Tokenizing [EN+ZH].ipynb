{
 "cells": [
  {
   "cell_type": "markdown",
   "metadata": {},
   "source": [
    "# Imports"
   ]
  },
  {
   "cell_type": "code",
   "execution_count": 1,
   "metadata": {},
   "outputs": [
    {
     "name": "stderr",
     "output_type": "stream",
     "text": [
      "Using TensorFlow backend.\n"
     ]
    }
   ],
   "source": [
    "# -------------- Preprocessing Packages --------------\n",
    "# For tokenizing\n",
    "from keras.preprocessing.text import Tokenizer\n",
    "from keras.preprocessing.sequence import pad_sequences\n",
    "\n",
    "# For Chinese word segmentation\n",
    "import jieba\n",
    "\n",
    "# -------------- General Packages --------------\n",
    "# General Use\n",
    "import pandas as pd\n",
    "import numpy as np\n",
    "\n",
    "# For Saving Files\n",
    "import pickle\n",
    "import os"
   ]
  },
  {
   "cell_type": "markdown",
   "metadata": {},
   "source": [
    "# Preprocessing Functions"
   ]
  },
  {
   "cell_type": "code",
   "execution_count": 2,
   "metadata": {},
   "outputs": [],
   "source": [
    "# Filters corrupted, unusable/unused data from the dataset\n",
    "def filter_dataset(df):\n",
    "    df = df.drop(columns=['id','tid1','tid2']) # drop id columns\n",
    "\n",
    "    # Replace garbage/unusable symbols\n",
    "    EN_replacements = {'-':' ',\n",
    "                       '&':' and ',\n",
    "                       '< / [a-zA-Z] >': '',\n",
    "                       '< [a-zA-Z] >':'',\n",
    "                       '[^a-zA-Z0-9 ]':'',\n",
    "                       ' s ':' ',\n",
    "                       '  ':' '}\n",
    "    for replacee in EN_replacements:\n",
    "        df['title1_en'] = df['title1_en'].str.replace(replacee,EN_replacements[replacee])\n",
    "        df['title2_en'] = df['title2_en'].str.replace(replacee,EN_replacements[replacee])    \n",
    "    df['title1_zh'] = df['title1_zh'].str.replace('[^㕛-马0-9 ]','')\n",
    "    df['title2_zh'] = df['title2_zh'].str.replace('[^㕛-马0-9 ]','')\n",
    "        \n",
    "    # Replace empty strings with NaN values\n",
    "    df['title1_en'].replace('', np.nan, inplace=True)\n",
    "    df['title2_en'].replace('', np.nan, inplace=True)\n",
    "    df['title1_zh'].replace('', np.nan, inplace=True)\n",
    "    df['title2_zh'].replace('', np.nan, inplace=True)\n",
    "    \n",
    "    # Remove rows with no label\n",
    "    labels = ['unrelated','agreed','disagreed']\n",
    "    df = df[df.label.isin(labels)]\n",
    "    \n",
    "    # Remove Unnamed columns\n",
    "    df = df.loc[:, ~df.columns.str.contains('^Unnamed')]\n",
    "\n",
    "    # Drop rows with null values\n",
    "    df = df.dropna()\n",
    "    return df\n",
    "\n",
    "# Returns a datset with an equal sampling of each label\n",
    "def equalize_dataset_labels(df, seed=1):\n",
    "    # Get minimum label count\n",
    "    n = df.label.value_counts().min()\n",
    "    \n",
    "    # Grabbing equal amounts of training data from each class\n",
    "    dfa = df[df['label']=='unrelated'].sample(n,random_state=seed)\n",
    "    dfb = df[df['label']=='agreed'].sample(n,random_state=seed)\n",
    "    dfc = df[df['label']=='disagreed'].sample(n,random_state=seed)\n",
    "    \n",
    "    # Recombine dataset and shuffle\n",
    "    df = pd.concat([dfa,dfb,dfc])\n",
    "    df = df.sample(frac=1,random_state=seed)\n",
    "    return df\n",
    "\n",
    "# Convert labels to integers for predictions\n",
    "def encode_labels(df):\n",
    "    # encoding the labels\n",
    "    labels = {'unrelated':0,'agreed':1,'disagreed':2}\n",
    "    df['label'].replace(labels,inplace=True)\n",
    "    df = df.reset_index()\n",
    "    return df"
   ]
  },
  {
   "cell_type": "markdown",
   "metadata": {},
   "source": [
    "# Tokenizing Functions"
   ]
  },
  {
   "cell_type": "code",
   "execution_count": 3,
   "metadata": {},
   "outputs": [],
   "source": [
    "# Create a word tokenizer given dataframe(s)\n",
    "def create_en_tokenizer(*data, num_words=None, lower=True, split=' ', oov_token=None, directory = './', filename='tokenizer'):\n",
    "    # create the tokenizer\n",
    "    t = Tokenizer(num_words=num_words, lower=lower, split=split, oov_token=oov_token)\n",
    "    \n",
    "    # fit tokenizer\n",
    "    for df in data:\n",
    "        t.fit_on_texts(df['title1_en'])  \n",
    "        t.fit_on_texts(df['title2_en'])  \n",
    "    \n",
    "    # save for future use\n",
    "    os.makedirs(directory, exist_ok=True)\n",
    "    pickle_out = open(os.path.join(directory+os.sep,'en_'+filename+'.pickle'), 'wb')\n",
    "    pickle.dump(t,pickle_out)\n",
    "    pickle_out.close()\n",
    "    return t\n",
    "\n",
    "# Splits Chinese characters into segments using jieba\n",
    "def segment_zh(text):\n",
    "    return ' '.join(jieba.cut(text, cut_all=False))\n",
    "\n",
    "# Segment Chinese text in a dataframe\n",
    "def segment_zh_data(df):\n",
    "    df['title1_zh'] = df['title1_zh'].apply(segment_zh)\n",
    "    df['title2_zh'] = df['title2_zh'].apply(segment_zh)\n",
    "    return df\n",
    "    \n",
    "# Create a word tokenizer given dataframe(s)\n",
    "def create_zh_tokenizer(*data, num_words=None, lower=True, split=' ', oov_token=None, directory = './', filename='tokenizer'):\n",
    "    # create the tokenizer\n",
    "    t = Tokenizer(num_words=num_words, lower=lower, split=split, oov_token=oov_token)\n",
    "    \n",
    "    # fit tokenizer\n",
    "    for df in data:\n",
    "        t.fit_on_texts(df['title1_zh'])  \n",
    "        t.fit_on_texts(df['title2_zh'])  \n",
    "    \n",
    "    # save for future use\n",
    "    os.makedirs(directory, exist_ok=True)\n",
    "    pickle_out = open(os.path.join(directory+os.sep,'zh_'+filename+'.pickle'), 'wb')\n",
    "    pickle.dump(t,pickle_out)\n",
    "    pickle_out.close()\n",
    "    return t\n",
    "\n",
    "# Tokenizes titles and encodes labels, trains a word tokenizer that is saved to a file\n",
    "def tokenize(t_en, t_zh, df, maxlen=20):\n",
    "    # fit the tokenizer on the documents  \n",
    "    data1 = pad_sequences(sequences=t_en.texts_to_sequences(df['title1_en']), maxlen=maxlen)\n",
    "    data2 = pad_sequences(sequences=t_en.texts_to_sequences(df['title2_en']), maxlen=maxlen)\n",
    "    data3 = pad_sequences(sequences=t_zh.texts_to_sequences(df['title1_zh']), maxlen=maxlen)\n",
    "    data4 = pad_sequences(sequences=t_zh.texts_to_sequences(df['title2_zh']), maxlen=maxlen)\n",
    "    \n",
    "    # recombine\n",
    "    df = pd.DataFrame(np.concatenate((data1,data2,data3,data4),axis=1)).join(df['label'])\n",
    "    return df"
   ]
  },
  {
   "cell_type": "markdown",
   "metadata": {},
   "source": [
    "# Save Preprocessed/Tokenized Data"
   ]
  },
  {
   "cell_type": "code",
   "execution_count": 4,
   "metadata": {},
   "outputs": [],
   "source": [
    "# Given train and test data, split into features and labels and save\n",
    "def save_data(train, test, maxlen=20, save_dir='./split_data/'):\n",
    "    # Split the data into X and y\n",
    "    X_train = train.iloc[:,:maxlen*4].to_numpy()\n",
    "    X_test = test.iloc[:,:maxlen*4].to_numpy()\n",
    "    y_train = train['label'].to_numpy()\n",
    "    y_test = test['label'].to_numpy()\n",
    "    \n",
    "    split_data_dir=save_dir\n",
    "    os.makedirs(os.path.dirname(split_data_dir), exist_ok=True)\n",
    "\n",
    "    pickle_out = open(os.path.join(split_data_dir+'X_train.pickle'), 'wb')\n",
    "    pickle.dump(X_train,pickle_out)\n",
    "    pickle_out.close()\n",
    "\n",
    "    pickle_out = open(os.path.join(split_data_dir+'X_test.pickle'), 'wb')\n",
    "    pickle.dump(X_test,pickle_out)\n",
    "    pickle_out.close()\n",
    "\n",
    "    pickle_out = open(os.path.join(split_data_dir+'y_train.pickle'), 'wb')\n",
    "    pickle.dump(y_train,pickle_out)\n",
    "    pickle_out.close()\n",
    "    \n",
    "    pickle_out = open(os.path.join(split_data_dir+'y_test.pickle'), 'wb')\n",
    "    pickle.dump(y_test,pickle_out)\n",
    "    pickle_out.close()"
   ]
  },
  {
   "cell_type": "markdown",
   "metadata": {},
   "source": [
    "# Creating Train/Test Data"
   ]
  },
  {
   "cell_type": "code",
   "execution_count": 5,
   "metadata": {},
   "outputs": [],
   "source": [
    "input_train = './data/train.csv'\n",
    "input_validation = './data/validation.csv'\n",
    "\n",
    "SPLIT_DATA_DIR = os.path.join('./split_data'+os.sep)\n",
    "\n",
    "OOV_TOKEN = 'UNK'\n",
    "SENTENCE_SIZE = 25\n",
    "NUM_WORDS = None"
   ]
  },
  {
   "cell_type": "code",
   "execution_count": 6,
   "metadata": {},
   "outputs": [
    {
     "name": "stderr",
     "output_type": "stream",
     "text": [
      "b'Skipping line 7026: expected 8 fields, saw 9\\nSkipping line 44341: expected 8 fields, saw 9\\nSkipping line 58784: expected 8 fields, saw 10\\n'\n",
      "b'Skipping line 99101: expected 8 fields, saw 10\\nSkipping line 104716: expected 8 fields, saw 9\\nSkipping line 127866: expected 8 fields, saw 10\\n'\n",
      "b'Skipping line 140436: expected 8 fields, saw 9\\nSkipping line 152888: expected 8 fields, saw 11\\n'\n"
     ]
    }
   ],
   "source": [
    "# Loading the data\n",
    "df_train = pd.read_csv(input_train,encoding='utf-8-sig',error_bad_lines=False)\n",
    "df_test = pd.read_csv(input_validation,encoding='utf-8-sig',error_bad_lines=False)"
   ]
  },
  {
   "cell_type": "code",
   "execution_count": 7,
   "metadata": {},
   "outputs": [],
   "source": [
    "# Initial preprocessing\n",
    "df_train_filtered = filter_dataset(df_train)\n",
    "df_test_filtered = filter_dataset(df_test)"
   ]
  },
  {
   "cell_type": "code",
   "execution_count": 8,
   "metadata": {},
   "outputs": [
    {
     "name": "stderr",
     "output_type": "stream",
     "text": [
      "Building prefix dict from the default dictionary ...\n",
      "Loading model from cache C:\\Users\\kevin\\AppData\\Local\\Temp\\jieba.cache\n",
      "Loading model cost 3.505 seconds.\n",
      "Prefix dict has been built succesfully.\n"
     ]
    }
   ],
   "source": [
    "# Segment the Chinese Text\n",
    "df_train_segmented = segment_zh_data(df_train_filtered)\n",
    "df_test_segmented = segment_zh_data(df_test_filtered)"
   ]
  },
  {
   "cell_type": "code",
   "execution_count": 9,
   "metadata": {},
   "outputs": [],
   "source": [
    "# Creatng tokenizers\n",
    "t_en = create_en_tokenizer(df_train_segmented, oov_token=OOV_TOKEN)\n",
    "t_zh = create_zh_tokenizer(df_train_segmented, oov_token=OOV_TOKEN)"
   ]
  },
  {
   "cell_type": "code",
   "execution_count": 10,
   "metadata": {},
   "outputs": [],
   "source": [
    "# Encoding the labels\n",
    "df_train_encoded = encode_labels(df_train_segmented)\n",
    "df_test_encoded = encode_labels(df_test_segmented)"
   ]
  },
  {
   "cell_type": "code",
   "execution_count": 11,
   "metadata": {},
   "outputs": [],
   "source": [
    "# Tokenizing the datasets\n",
    "df_train_tokenized = tokenize(t_en,t_zh,df_train_encoded,SENTENCE_SIZE)\n",
    "df_test_tokenized = tokenize(t_en,t_zh,df_test_encoded,SENTENCE_SIZE)"
   ]
  },
  {
   "cell_type": "code",
   "execution_count": 12,
   "metadata": {},
   "outputs": [],
   "source": [
    "# Saving the feature/label split\n",
    "save_data(train=df_train_tokenized,\n",
    "          test=df_test_tokenized,\n",
    "          maxlen=SENTENCE_SIZE,\n",
    "          save_dir=SPLIT_DATA_DIR)"
   ]
  },
  {
   "cell_type": "code",
   "execution_count": 13,
   "metadata": {},
   "outputs": [
    {
     "name": "stdout",
     "output_type": "stream",
     "text": [
      "40847 76722\n"
     ]
    }
   ],
   "source": [
    "print(len(t_en.word_index),len(t_zh.word_index))"
   ]
  },
  {
   "cell_type": "code",
   "execution_count": 27,
   "metadata": {},
   "outputs": [
    {
     "data": {
      "text/plain": [
       "12.142360695650364"
      ]
     },
     "execution_count": 27,
     "metadata": {},
     "output_type": "execute_result"
    }
   ],
   "source": [
    "np.mean(df_train_segmented.title1_zh.str.split().apply(len))"
   ]
  },
  {
   "cell_type": "code",
   "execution_count": 28,
   "metadata": {},
   "outputs": [
    {
     "data": {
      "text/plain": [
       "12.306336910775505"
      ]
     },
     "execution_count": 28,
     "metadata": {},
     "output_type": "execute_result"
    }
   ],
   "source": [
    "np.mean(df_train_segmented.title2_zh.str.split().apply(len))"
   ]
  },
  {
   "cell_type": "code",
   "execution_count": 29,
   "metadata": {},
   "outputs": [
    {
     "data": {
      "text/plain": [
       "16.501651727420757"
      ]
     },
     "execution_count": 29,
     "metadata": {},
     "output_type": "execute_result"
    }
   ],
   "source": [
    "np.mean(df_train_segmented.title1_en.str.split().apply(len))"
   ]
  },
  {
   "cell_type": "code",
   "execution_count": 30,
   "metadata": {},
   "outputs": [
    {
     "data": {
      "text/plain": [
       "16.667781691056742"
      ]
     },
     "execution_count": 30,
     "metadata": {},
     "output_type": "execute_result"
    }
   ],
   "source": [
    "np.mean(df_train_segmented.title2_en.str.split().apply(len))"
   ]
  },
  {
   "cell_type": "markdown",
   "metadata": {},
   "source": [
    "# Inverse Tokenization\n",
    "\n",
    "Some experimentation with inverse tokenizing to double check if it's working."
   ]
  },
  {
   "cell_type": "code",
   "execution_count": null,
   "metadata": {},
   "outputs": [],
   "source": [
    "t.sequences_to_texts([df_train_tokenized.iloc[0,:SENTENCE_SIZE]])"
   ]
  },
  {
   "cell_type": "code",
   "execution_count": null,
   "metadata": {},
   "outputs": [],
   "source": [
    "t.sequences_to_texts([df_train_tokenized.iloc[0,SENTENCE_SIZE:SENTENCE_SIZE*2]])"
   ]
  },
  {
   "cell_type": "code",
   "execution_count": null,
   "metadata": {},
   "outputs": [],
   "source": [
    "df_train_tokenized.iloc[0,SENTENCE_SIZE*2]"
   ]
  },
  {
   "cell_type": "code",
   "execution_count": null,
   "metadata": {},
   "outputs": [],
   "source": [
    "df_train_encoded[:1]"
   ]
  },
  {
   "cell_type": "code",
   "execution_count": null,
   "metadata": {},
   "outputs": [],
   "source": [
    "df_train[:5]"
   ]
  }
 ],
 "metadata": {
  "kernelspec": {
   "display_name": "Python 3",
   "language": "python",
   "name": "python3"
  },
  "language_info": {
   "codemirror_mode": {
    "name": "ipython",
    "version": 3
   },
   "file_extension": ".py",
   "mimetype": "text/x-python",
   "name": "python",
   "nbconvert_exporter": "python",
   "pygments_lexer": "ipython3",
   "version": "3.7.3"
  }
 },
 "nbformat": 4,
 "nbformat_minor": 2
}
