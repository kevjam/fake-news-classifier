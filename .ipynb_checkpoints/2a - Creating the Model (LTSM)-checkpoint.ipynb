{
 "cells": [
  {
   "cell_type": "markdown",
   "metadata": {},
   "source": [
    "#  Resources Used"
   ]
  },
  {
   "cell_type": "markdown",
   "metadata": {},
   "source": [
    "- https://www.youtube.com/watch?v=lV09_8432VA - Optimizing with TensorBoard - Deep Learning w/ Python, TensorFlow & Keras p.5"
   ]
  },
  {
   "cell_type": "markdown",
   "metadata": {},
   "source": [
    "# Imports"
   ]
  },
  {
   "cell_type": "code",
   "execution_count": 1,
   "metadata": {},
   "outputs": [
    {
     "name": "stderr",
     "output_type": "stream",
     "text": [
      "Using TensorFlow backend.\n"
     ]
    }
   ],
   "source": [
    "# -------------- Modelling Packages --------------\n",
    "# For modeling\n",
    "from keras.models import Model\n",
    "from keras.layers import Concatenate, Input, Dense\n",
    "from keras.layers.recurrent import LSTM\n",
    "\n",
    "# Callback Functions\n",
    "from keras.callbacks import TensorBoard, ModelCheckpoint\n",
    "\n",
    "# For Timestamping Models\n",
    "import time\n",
    "\n",
    "# -------------- General Packages --------------\n",
    "# Data Manipulation\n",
    "import pandas as pd\n",
    "import numpy as np\n",
    "\n",
    "# For Saving Files\n",
    "import pickle\n",
    "import os"
   ]
  },
  {
   "cell_type": "markdown",
   "metadata": {},
   "source": [
    "# Loading The Dataset"
   ]
  },
  {
   "cell_type": "code",
   "execution_count": 2,
   "metadata": {},
   "outputs": [],
   "source": [
    "# Given the split dataset directory, return the train/test split\n",
    "def load_dataset(split_data_dir):\n",
    "    pickle_in = open(split_data_dir+'X_train.pickle','rb')\n",
    "    X_train = pickle.load(pickle_in)\n",
    "    \n",
    "    pickle_in = open(split_data_dir+'X_test.pickle','rb')\n",
    "    X_test = pickle.load(pickle_in)\n",
    "\n",
    "    pickle_in = open(split_data_dir+'y_train.pickle','rb')\n",
    "    y_train = pickle.load(pickle_in)\n",
    "\n",
    "    pickle_in = open(split_data_dir+'y_test.pickle','rb')\n",
    "    y_test = pickle.load(pickle_in)\n",
    "    \n",
    "    return X_train,X_test,y_train,y_test\n",
    "    \n",
    "split_data_dir = './split_data/'\n",
    "X_train,X_test,y_train,y_test = load_dataset(split_data_dir)"
   ]
  },
  {
   "cell_type": "markdown",
   "metadata": {},
   "source": [
    "# Parameters"
   ]
  },
  {
   "cell_type": "code",
   "execution_count": 3,
   "metadata": {},
   "outputs": [],
   "source": [
    "# Tokenizer Values\n",
    "SENTENCE_SIZE = 20\n",
    "\n",
    "# Layer Size Parameters\n",
    "LSTM_SIZE = 500\n",
    "DENSE_SIZE = 20\n",
    "\n",
    "# Name/Directory of the Model\n",
    "MODEL_DIR = './models/'\n",
    "NAME = 'FN-{}S-{}LSTM-{}D-{}'.format(SENTENCE_SIZE,LSTM_SIZE,DENSE_SIZE,time.time())\n",
    "EXTENSION = '.hdf5'\n",
    "\n",
    "# Directory of the tensorboard logs\n",
    "log_dir = os.path.join(\"logs\",NAME)\n",
    "\n",
    "# Compile Parameters\n",
    "activation = 'softmax'\n",
    "optimizer = 'RMSProp'\n",
    "loss = 'sparse_categorical_crossentropy'\n",
    "metrics = ['accuracy']\n",
    "\n",
    "# Callbacks\n",
    "# access tensorboard from the command line: tensorboard --logdir logs/\n",
    "tensorboard = TensorBoard(log_dir=log_dir) \n",
    "checkpointer = ModelCheckpoint(MODEL_DIR+NAME+EXTENSION, \n",
    "                               monitor='val_accuracy', \n",
    "                               verbose=1, \n",
    "                               save_best_only=True, \n",
    "                               mode='auto')\n",
    "callbacks=[tensorboard,checkpointer]\n",
    "\n",
    "# Fitting Parameters\n",
    "epochs = 100\n",
    "batch_size = 128"
   ]
  },
  {
   "cell_type": "markdown",
   "metadata": {},
   "source": [
    "# Model Structure"
   ]
  },
  {
   "cell_type": "code",
   "execution_count": 4,
   "metadata": {},
   "outputs": [],
   "source": [
    "# FIRST MODEL: TITLE1_EN\n",
    "first_input = Input((SENTENCE_SIZE,1))\n",
    "first_LSTM = LSTM(LSTM_SIZE)(first_input)\n",
    "first_dense = Dense(DENSE_SIZE)(first_LSTM)\n",
    "\n",
    "# SECOND MODEL: TITLE2_EN\n",
    "second_input = Input((SENTENCE_SIZE,1))\n",
    "second_LSTM = LSTM(LSTM_SIZE)(second_input)\n",
    "second_dense = Dense(DENSE_SIZE)(second_LSTM)\n",
    "\n",
    "# MERGE MODEL\n",
    "merged = Concatenate(axis=1)([first_dense, second_dense])\n",
    "merged_dense = Dense(DENSE_SIZE)(merged)\n",
    "output_layer = Dense(3, activation='softmax')(merged_dense)\n",
    "\n",
    "model = Model(inputs=[first_input, second_input], outputs=output_layer)\n",
    "model.compile(optimizer=optimizer, loss=loss,metrics=metrics)"
   ]
  },
  {
   "cell_type": "markdown",
   "metadata": {},
   "source": [
    "# Training"
   ]
  },
  {
   "cell_type": "code",
   "execution_count": 5,
   "metadata": {
    "scrolled": false
   },
   "outputs": [
    {
     "name": "stdout",
     "output_type": "stream",
     "text": [
      "Train on 14667 samples, validate on 5052 samples\n",
      "Epoch 1/100\n",
      "  256/14667 [..............................] - ETA: 1:34 - loss: 3.1722 - accuracy: 0.3594"
     ]
    },
    {
     "name": "stderr",
     "output_type": "stream",
     "text": [
      "C:\\Users\\kevin\\Anaconda3\\lib\\site-packages\\keras\\callbacks\\callbacks.py:95: RuntimeWarning: Method (on_train_batch_end) is slow compared to the batch update (0.384582). Check your callbacks.\n",
      "  % (hook_name, delta_t_median), RuntimeWarning)\n"
     ]
    },
    {
     "name": "stdout",
     "output_type": "stream",
     "text": [
      "14667/14667 [==============================] - 34s 2ms/step - loss: 1.2075 - accuracy: 0.3918 - val_loss: 1.1270 - val_accuracy: 0.3733\n",
      "\n",
      "Epoch 00001: val_accuracy improved from -inf to 0.37332, saving model to ./models/FN-20S-500LSTM-20D-1572523243.466474.hdf5\n",
      "Epoch 2/100\n",
      "14667/14667 [==============================] - 32s 2ms/step - loss: 1.0711 - accuracy: 0.4280 - val_loss: 1.0565 - val_accuracy: 0.4570\n",
      "\n",
      "Epoch 00002: val_accuracy improved from 0.37332 to 0.45705, saving model to ./models/FN-20S-500LSTM-20D-1572523243.466474.hdf5\n",
      "Epoch 3/100\n",
      "14667/14667 [==============================] - 33s 2ms/step - loss: 1.0350 - accuracy: 0.4605 - val_loss: 1.0818 - val_accuracy: 0.4133\n",
      "\n",
      "Epoch 00003: val_accuracy did not improve from 0.45705\n",
      "Epoch 4/100\n",
      "14667/14667 [==============================] - 33s 2ms/step - loss: 1.0158 - accuracy: 0.4731 - val_loss: 1.0249 - val_accuracy: 0.4586\n",
      "\n",
      "Epoch 00004: val_accuracy improved from 0.45705 to 0.45863, saving model to ./models/FN-20S-500LSTM-20D-1572523243.466474.hdf5\n",
      "Epoch 5/100\n",
      "14667/14667 [==============================] - 33s 2ms/step - loss: 0.9914 - accuracy: 0.4885 - val_loss: 1.0365 - val_accuracy: 0.4784\n",
      "\n",
      "Epoch 00005: val_accuracy improved from 0.45863 to 0.47842, saving model to ./models/FN-20S-500LSTM-20D-1572523243.466474.hdf5\n",
      "Epoch 6/100\n",
      "14667/14667 [==============================] - 33s 2ms/step - loss: 0.9728 - accuracy: 0.5073 - val_loss: 1.0007 - val_accuracy: 0.4780\n",
      "\n",
      "Epoch 00006: val_accuracy did not improve from 0.47842\n",
      "Epoch 7/100\n",
      "14667/14667 [==============================] - 33s 2ms/step - loss: 0.9492 - accuracy: 0.5171 - val_loss: 1.0035 - val_accuracy: 0.4798\n",
      "\n",
      "Epoch 00007: val_accuracy improved from 0.47842 to 0.47981, saving model to ./models/FN-20S-500LSTM-20D-1572523243.466474.hdf5\n",
      "Epoch 8/100\n",
      "14667/14667 [==============================] - 34s 2ms/step - loss: 0.9263 - accuracy: 0.5354 - val_loss: 0.9901 - val_accuracy: 0.4941\n",
      "\n",
      "Epoch 00008: val_accuracy improved from 0.47981 to 0.49406, saving model to ./models/FN-20S-500LSTM-20D-1572523243.466474.hdf5\n",
      "Epoch 9/100\n",
      "14667/14667 [==============================] - 33s 2ms/step - loss: 0.8940 - accuracy: 0.5569 - val_loss: 1.0361 - val_accuracy: 0.4907\n",
      "\n",
      "Epoch 00009: val_accuracy did not improve from 0.49406\n",
      "Epoch 10/100\n",
      "14667/14667 [==============================] - 33s 2ms/step - loss: 0.8694 - accuracy: 0.5737 - val_loss: 1.0710 - val_accuracy: 0.4802\n",
      "\n",
      "Epoch 00010: val_accuracy did not improve from 0.49406\n",
      "Epoch 11/100\n",
      "14667/14667 [==============================] - 34s 2ms/step - loss: 0.8302 - accuracy: 0.6005 - val_loss: 1.0513 - val_accuracy: 0.4992\n",
      "\n",
      "Epoch 00011: val_accuracy improved from 0.49406 to 0.49921, saving model to ./models/FN-20S-500LSTM-20D-1572523243.466474.hdf5\n",
      "Epoch 12/100\n",
      "14667/14667 [==============================] - 33s 2ms/step - loss: 0.7962 - accuracy: 0.6208 - val_loss: 1.0170 - val_accuracy: 0.5091\n",
      "\n",
      "Epoch 00012: val_accuracy improved from 0.49921 to 0.50911, saving model to ./models/FN-20S-500LSTM-20D-1572523243.466474.hdf5\n",
      "Epoch 13/100\n",
      "14667/14667 [==============================] - 32s 2ms/step - loss: 0.7580 - accuracy: 0.6427 - val_loss: 1.1153 - val_accuracy: 0.5016\n",
      "\n",
      "Epoch 00013: val_accuracy did not improve from 0.50911\n",
      "Epoch 14/100\n",
      "14667/14667 [==============================] - 33s 2ms/step - loss: 0.7100 - accuracy: 0.6732 - val_loss: 1.1017 - val_accuracy: 0.5192\n",
      "\n",
      "Epoch 00014: val_accuracy improved from 0.50911 to 0.51920, saving model to ./models/FN-20S-500LSTM-20D-1572523243.466474.hdf5\n",
      "Epoch 15/100\n",
      "14667/14667 [==============================] - 34s 2ms/step - loss: 0.6620 - accuracy: 0.6978 - val_loss: 1.1022 - val_accuracy: 0.5214\n",
      "\n",
      "Epoch 00015: val_accuracy improved from 0.51920 to 0.52138, saving model to ./models/FN-20S-500LSTM-20D-1572523243.466474.hdf5\n",
      "Epoch 16/100\n",
      "14667/14667 [==============================] - 33s 2ms/step - loss: 0.6178 - accuracy: 0.7225 - val_loss: 1.1487 - val_accuracy: 0.5247\n",
      "\n",
      "Epoch 00016: val_accuracy improved from 0.52138 to 0.52474, saving model to ./models/FN-20S-500LSTM-20D-1572523243.466474.hdf5\n",
      "Epoch 17/100\n",
      "14667/14667 [==============================] - 35s 2ms/step - loss: 0.5737 - accuracy: 0.7469 - val_loss: 1.3127 - val_accuracy: 0.4972\n",
      "\n",
      "Epoch 00017: val_accuracy did not improve from 0.52474\n",
      "Epoch 18/100\n",
      "14667/14667 [==============================] - 34s 2ms/step - loss: 0.5307 - accuracy: 0.7680 - val_loss: 1.3581 - val_accuracy: 0.5109\n",
      "\n",
      "Epoch 00018: val_accuracy did not improve from 0.52474\n",
      "Epoch 19/100\n",
      "14667/14667 [==============================] - 33s 2ms/step - loss: 0.4837 - accuracy: 0.7939 - val_loss: 1.3148 - val_accuracy: 0.5236\n",
      "\n",
      "Epoch 00019: val_accuracy did not improve from 0.52474\n",
      "Epoch 20/100\n",
      "14667/14667 [==============================] - 32s 2ms/step - loss: 0.4386 - accuracy: 0.8137 - val_loss: 1.4009 - val_accuracy: 0.5139\n",
      "\n",
      "Epoch 00020: val_accuracy did not improve from 0.52474\n",
      "Epoch 21/100\n",
      " 2304/14667 [===>..........................] - ETA: 24s - loss: 0.3570 - accuracy: 0.8490"
     ]
    },
    {
     "ename": "KeyboardInterrupt",
     "evalue": "",
     "output_type": "error",
     "traceback": [
      "\u001b[1;31m---------------------------------------------------------------------------\u001b[0m",
      "\u001b[1;31mKeyboardInterrupt\u001b[0m                         Traceback (most recent call last)",
      "\u001b[1;32m<ipython-input-5-e69162a7f7d7>\u001b[0m in \u001b[0;36m<module>\u001b[1;34m\u001b[0m\n\u001b[0;32m      6\u001b[0m           \u001b[0mbatch_size\u001b[0m\u001b[1;33m=\u001b[0m\u001b[0mbatch_size\u001b[0m\u001b[1;33m,\u001b[0m\u001b[1;33m\u001b[0m\u001b[1;33m\u001b[0m\u001b[0m\n\u001b[0;32m      7\u001b[0m           \u001b[0mvalidation_data\u001b[0m\u001b[1;33m=\u001b[0m\u001b[1;33m(\u001b[0m\u001b[1;33m[\u001b[0m\u001b[0mX_test\u001b[0m\u001b[1;33m[\u001b[0m\u001b[1;33m:\u001b[0m\u001b[1;33m,\u001b[0m\u001b[1;33m:\u001b[0m\u001b[0mSENTENCE_SIZE\u001b[0m\u001b[1;33m]\u001b[0m\u001b[1;33m,\u001b[0m \u001b[0mX_test\u001b[0m\u001b[1;33m[\u001b[0m\u001b[1;33m:\u001b[0m\u001b[1;33m,\u001b[0m\u001b[0mSENTENCE_SIZE\u001b[0m\u001b[1;33m:\u001b[0m\u001b[1;33m]\u001b[0m\u001b[1;33m]\u001b[0m\u001b[1;33m,\u001b[0m \u001b[0my_test\u001b[0m\u001b[1;33m)\u001b[0m\u001b[1;33m,\u001b[0m\u001b[1;33m\u001b[0m\u001b[1;33m\u001b[0m\u001b[0m\n\u001b[1;32m----> 8\u001b[1;33m           callbacks=callbacks)\n\u001b[0m",
      "\u001b[1;32m~\\Anaconda3\\lib\\site-packages\\keras\\engine\\training.py\u001b[0m in \u001b[0;36mfit\u001b[1;34m(self, x, y, batch_size, epochs, verbose, callbacks, validation_split, validation_data, shuffle, class_weight, sample_weight, initial_epoch, steps_per_epoch, validation_steps, validation_freq, max_queue_size, workers, use_multiprocessing, **kwargs)\u001b[0m\n\u001b[0;32m   1237\u001b[0m                                         \u001b[0msteps_per_epoch\u001b[0m\u001b[1;33m=\u001b[0m\u001b[0msteps_per_epoch\u001b[0m\u001b[1;33m,\u001b[0m\u001b[1;33m\u001b[0m\u001b[1;33m\u001b[0m\u001b[0m\n\u001b[0;32m   1238\u001b[0m                                         \u001b[0mvalidation_steps\u001b[0m\u001b[1;33m=\u001b[0m\u001b[0mvalidation_steps\u001b[0m\u001b[1;33m,\u001b[0m\u001b[1;33m\u001b[0m\u001b[1;33m\u001b[0m\u001b[0m\n\u001b[1;32m-> 1239\u001b[1;33m                                         validation_freq=validation_freq)\n\u001b[0m\u001b[0;32m   1240\u001b[0m \u001b[1;33m\u001b[0m\u001b[0m\n\u001b[0;32m   1241\u001b[0m     def evaluate(self,\n",
      "\u001b[1;32m~\\Anaconda3\\lib\\site-packages\\keras\\engine\\training_arrays.py\u001b[0m in \u001b[0;36mfit_loop\u001b[1;34m(model, fit_function, fit_inputs, out_labels, batch_size, epochs, verbose, callbacks, val_function, val_inputs, shuffle, initial_epoch, steps_per_epoch, validation_steps, validation_freq)\u001b[0m\n\u001b[0;32m    194\u001b[0m                     \u001b[0mins_batch\u001b[0m\u001b[1;33m[\u001b[0m\u001b[0mi\u001b[0m\u001b[1;33m]\u001b[0m \u001b[1;33m=\u001b[0m \u001b[0mins_batch\u001b[0m\u001b[1;33m[\u001b[0m\u001b[0mi\u001b[0m\u001b[1;33m]\u001b[0m\u001b[1;33m.\u001b[0m\u001b[0mtoarray\u001b[0m\u001b[1;33m(\u001b[0m\u001b[1;33m)\u001b[0m\u001b[1;33m\u001b[0m\u001b[1;33m\u001b[0m\u001b[0m\n\u001b[0;32m    195\u001b[0m \u001b[1;33m\u001b[0m\u001b[0m\n\u001b[1;32m--> 196\u001b[1;33m                 \u001b[0mouts\u001b[0m \u001b[1;33m=\u001b[0m \u001b[0mfit_function\u001b[0m\u001b[1;33m(\u001b[0m\u001b[0mins_batch\u001b[0m\u001b[1;33m)\u001b[0m\u001b[1;33m\u001b[0m\u001b[1;33m\u001b[0m\u001b[0m\n\u001b[0m\u001b[0;32m    197\u001b[0m                 \u001b[0mouts\u001b[0m \u001b[1;33m=\u001b[0m \u001b[0mto_list\u001b[0m\u001b[1;33m(\u001b[0m\u001b[0mouts\u001b[0m\u001b[1;33m)\u001b[0m\u001b[1;33m\u001b[0m\u001b[1;33m\u001b[0m\u001b[0m\n\u001b[0;32m    198\u001b[0m                 \u001b[1;32mfor\u001b[0m \u001b[0ml\u001b[0m\u001b[1;33m,\u001b[0m \u001b[0mo\u001b[0m \u001b[1;32min\u001b[0m \u001b[0mzip\u001b[0m\u001b[1;33m(\u001b[0m\u001b[0mout_labels\u001b[0m\u001b[1;33m,\u001b[0m \u001b[0mouts\u001b[0m\u001b[1;33m)\u001b[0m\u001b[1;33m:\u001b[0m\u001b[1;33m\u001b[0m\u001b[1;33m\u001b[0m\u001b[0m\n",
      "\u001b[1;32m~\\Anaconda3\\lib\\site-packages\\tensorflow_core\\python\\keras\\backend.py\u001b[0m in \u001b[0;36m__call__\u001b[1;34m(self, inputs)\u001b[0m\n\u001b[0;32m   3738\u001b[0m         \u001b[0mvalue\u001b[0m \u001b[1;33m=\u001b[0m \u001b[0mmath_ops\u001b[0m\u001b[1;33m.\u001b[0m\u001b[0mcast\u001b[0m\u001b[1;33m(\u001b[0m\u001b[0mvalue\u001b[0m\u001b[1;33m,\u001b[0m \u001b[0mtensor\u001b[0m\u001b[1;33m.\u001b[0m\u001b[0mdtype\u001b[0m\u001b[1;33m)\u001b[0m\u001b[1;33m\u001b[0m\u001b[1;33m\u001b[0m\u001b[0m\n\u001b[0;32m   3739\u001b[0m       \u001b[0mconverted_inputs\u001b[0m\u001b[1;33m.\u001b[0m\u001b[0mappend\u001b[0m\u001b[1;33m(\u001b[0m\u001b[0mvalue\u001b[0m\u001b[1;33m)\u001b[0m\u001b[1;33m\u001b[0m\u001b[1;33m\u001b[0m\u001b[0m\n\u001b[1;32m-> 3740\u001b[1;33m     \u001b[0moutputs\u001b[0m \u001b[1;33m=\u001b[0m \u001b[0mself\u001b[0m\u001b[1;33m.\u001b[0m\u001b[0m_graph_fn\u001b[0m\u001b[1;33m(\u001b[0m\u001b[1;33m*\u001b[0m\u001b[0mconverted_inputs\u001b[0m\u001b[1;33m)\u001b[0m\u001b[1;33m\u001b[0m\u001b[1;33m\u001b[0m\u001b[0m\n\u001b[0m\u001b[0;32m   3741\u001b[0m \u001b[1;33m\u001b[0m\u001b[0m\n\u001b[0;32m   3742\u001b[0m     \u001b[1;31m# EagerTensor.numpy() will often make a copy to ensure memory safety.\u001b[0m\u001b[1;33m\u001b[0m\u001b[1;33m\u001b[0m\u001b[1;33m\u001b[0m\u001b[0m\n",
      "\u001b[1;32m~\\Anaconda3\\lib\\site-packages\\tensorflow_core\\python\\eager\\function.py\u001b[0m in \u001b[0;36m__call__\u001b[1;34m(self, *args, **kwargs)\u001b[0m\n\u001b[0;32m   1079\u001b[0m       \u001b[0mTypeError\u001b[0m\u001b[1;33m:\u001b[0m \u001b[0mFor\u001b[0m \u001b[0minvalid\u001b[0m \u001b[0mpositional\u001b[0m\u001b[1;33m/\u001b[0m\u001b[0mkeyword\u001b[0m \u001b[0margument\u001b[0m \u001b[0mcombinations\u001b[0m\u001b[1;33m.\u001b[0m\u001b[1;33m\u001b[0m\u001b[1;33m\u001b[0m\u001b[0m\n\u001b[0;32m   1080\u001b[0m     \"\"\"\n\u001b[1;32m-> 1081\u001b[1;33m     \u001b[1;32mreturn\u001b[0m \u001b[0mself\u001b[0m\u001b[1;33m.\u001b[0m\u001b[0m_call_impl\u001b[0m\u001b[1;33m(\u001b[0m\u001b[0margs\u001b[0m\u001b[1;33m,\u001b[0m \u001b[0mkwargs\u001b[0m\u001b[1;33m)\u001b[0m\u001b[1;33m\u001b[0m\u001b[1;33m\u001b[0m\u001b[0m\n\u001b[0m\u001b[0;32m   1082\u001b[0m \u001b[1;33m\u001b[0m\u001b[0m\n\u001b[0;32m   1083\u001b[0m   \u001b[1;32mdef\u001b[0m \u001b[0m_call_impl\u001b[0m\u001b[1;33m(\u001b[0m\u001b[0mself\u001b[0m\u001b[1;33m,\u001b[0m \u001b[0margs\u001b[0m\u001b[1;33m,\u001b[0m \u001b[0mkwargs\u001b[0m\u001b[1;33m,\u001b[0m \u001b[0mcancellation_manager\u001b[0m\u001b[1;33m=\u001b[0m\u001b[1;32mNone\u001b[0m\u001b[1;33m)\u001b[0m\u001b[1;33m:\u001b[0m\u001b[1;33m\u001b[0m\u001b[1;33m\u001b[0m\u001b[0m\n",
      "\u001b[1;32m~\\Anaconda3\\lib\\site-packages\\tensorflow_core\\python\\eager\\function.py\u001b[0m in \u001b[0;36m_call_impl\u001b[1;34m(self, args, kwargs, cancellation_manager)\u001b[0m\n\u001b[0;32m   1119\u001b[0m       raise TypeError(\"Keyword arguments {} unknown. Expected {}.\".format(\n\u001b[0;32m   1120\u001b[0m           list(kwargs.keys()), list(self._arg_keywords)))\n\u001b[1;32m-> 1121\u001b[1;33m     \u001b[1;32mreturn\u001b[0m \u001b[0mself\u001b[0m\u001b[1;33m.\u001b[0m\u001b[0m_call_flat\u001b[0m\u001b[1;33m(\u001b[0m\u001b[0margs\u001b[0m\u001b[1;33m,\u001b[0m \u001b[0mself\u001b[0m\u001b[1;33m.\u001b[0m\u001b[0mcaptured_inputs\u001b[0m\u001b[1;33m,\u001b[0m \u001b[0mcancellation_manager\u001b[0m\u001b[1;33m)\u001b[0m\u001b[1;33m\u001b[0m\u001b[1;33m\u001b[0m\u001b[0m\n\u001b[0m\u001b[0;32m   1122\u001b[0m \u001b[1;33m\u001b[0m\u001b[0m\n\u001b[0;32m   1123\u001b[0m   \u001b[1;32mdef\u001b[0m \u001b[0m_filtered_call\u001b[0m\u001b[1;33m(\u001b[0m\u001b[0mself\u001b[0m\u001b[1;33m,\u001b[0m \u001b[0margs\u001b[0m\u001b[1;33m,\u001b[0m \u001b[0mkwargs\u001b[0m\u001b[1;33m)\u001b[0m\u001b[1;33m:\u001b[0m\u001b[1;33m\u001b[0m\u001b[1;33m\u001b[0m\u001b[0m\n",
      "\u001b[1;32m~\\Anaconda3\\lib\\site-packages\\tensorflow_core\\python\\eager\\function.py\u001b[0m in \u001b[0;36m_call_flat\u001b[1;34m(self, args, captured_inputs, cancellation_manager)\u001b[0m\n\u001b[0;32m   1222\u001b[0m     \u001b[1;32mif\u001b[0m \u001b[0mexecuting_eagerly\u001b[0m\u001b[1;33m:\u001b[0m\u001b[1;33m\u001b[0m\u001b[1;33m\u001b[0m\u001b[0m\n\u001b[0;32m   1223\u001b[0m       flat_outputs = forward_function.call(\n\u001b[1;32m-> 1224\u001b[1;33m           ctx, args, cancellation_manager=cancellation_manager)\n\u001b[0m\u001b[0;32m   1225\u001b[0m     \u001b[1;32melse\u001b[0m\u001b[1;33m:\u001b[0m\u001b[1;33m\u001b[0m\u001b[1;33m\u001b[0m\u001b[0m\n\u001b[0;32m   1226\u001b[0m       \u001b[0mgradient_name\u001b[0m \u001b[1;33m=\u001b[0m \u001b[0mself\u001b[0m\u001b[1;33m.\u001b[0m\u001b[0m_delayed_rewrite_functions\u001b[0m\u001b[1;33m.\u001b[0m\u001b[0mregister\u001b[0m\u001b[1;33m(\u001b[0m\u001b[1;33m)\u001b[0m\u001b[1;33m\u001b[0m\u001b[1;33m\u001b[0m\u001b[0m\n",
      "\u001b[1;32m~\\Anaconda3\\lib\\site-packages\\tensorflow_core\\python\\eager\\function.py\u001b[0m in \u001b[0;36mcall\u001b[1;34m(self, ctx, args, cancellation_manager)\u001b[0m\n\u001b[0;32m    509\u001b[0m               \u001b[0minputs\u001b[0m\u001b[1;33m=\u001b[0m\u001b[0margs\u001b[0m\u001b[1;33m,\u001b[0m\u001b[1;33m\u001b[0m\u001b[1;33m\u001b[0m\u001b[0m\n\u001b[0;32m    510\u001b[0m               \u001b[0mattrs\u001b[0m\u001b[1;33m=\u001b[0m\u001b[1;33m(\u001b[0m\u001b[1;34m\"executor_type\"\u001b[0m\u001b[1;33m,\u001b[0m \u001b[0mexecutor_type\u001b[0m\u001b[1;33m,\u001b[0m \u001b[1;34m\"config_proto\"\u001b[0m\u001b[1;33m,\u001b[0m \u001b[0mconfig\u001b[0m\u001b[1;33m)\u001b[0m\u001b[1;33m,\u001b[0m\u001b[1;33m\u001b[0m\u001b[1;33m\u001b[0m\u001b[0m\n\u001b[1;32m--> 511\u001b[1;33m               ctx=ctx)\n\u001b[0m\u001b[0;32m    512\u001b[0m         \u001b[1;32melse\u001b[0m\u001b[1;33m:\u001b[0m\u001b[1;33m\u001b[0m\u001b[1;33m\u001b[0m\u001b[0m\n\u001b[0;32m    513\u001b[0m           outputs = execute.execute_with_cancellation(\n",
      "\u001b[1;32m~\\Anaconda3\\lib\\site-packages\\tensorflow_core\\python\\eager\\execute.py\u001b[0m in \u001b[0;36mquick_execute\u001b[1;34m(op_name, num_outputs, inputs, attrs, ctx, name)\u001b[0m\n\u001b[0;32m     59\u001b[0m     tensors = pywrap_tensorflow.TFE_Py_Execute(ctx._handle, device_name,\n\u001b[0;32m     60\u001b[0m                                                \u001b[0mop_name\u001b[0m\u001b[1;33m,\u001b[0m \u001b[0minputs\u001b[0m\u001b[1;33m,\u001b[0m \u001b[0mattrs\u001b[0m\u001b[1;33m,\u001b[0m\u001b[1;33m\u001b[0m\u001b[1;33m\u001b[0m\u001b[0m\n\u001b[1;32m---> 61\u001b[1;33m                                                num_outputs)\n\u001b[0m\u001b[0;32m     62\u001b[0m   \u001b[1;32mexcept\u001b[0m \u001b[0mcore\u001b[0m\u001b[1;33m.\u001b[0m\u001b[0m_NotOkStatusException\u001b[0m \u001b[1;32mas\u001b[0m \u001b[0me\u001b[0m\u001b[1;33m:\u001b[0m\u001b[1;33m\u001b[0m\u001b[1;33m\u001b[0m\u001b[0m\n\u001b[0;32m     63\u001b[0m     \u001b[1;32mif\u001b[0m \u001b[0mname\u001b[0m \u001b[1;32mis\u001b[0m \u001b[1;32mnot\u001b[0m \u001b[1;32mNone\u001b[0m\u001b[1;33m:\u001b[0m\u001b[1;33m\u001b[0m\u001b[1;33m\u001b[0m\u001b[0m\n",
      "\u001b[1;31mKeyboardInterrupt\u001b[0m: "
     ]
    }
   ],
   "source": [
    "os.makedirs(os.path.dirname(MODEL_DIR), exist_ok=True)\n",
    "\n",
    "# Training the model\n",
    "model.fit([X_train[:,:SENTENCE_SIZE], X_train[:,SENTENCE_SIZE:]], y_train,\n",
    "          epochs=epochs,\n",
    "          batch_size=batch_size,\n",
    "          validation_data=([X_test[:,:SENTENCE_SIZE], X_test[:,SENTENCE_SIZE:]], y_test),\n",
    "          callbacks=callbacks)"
   ]
  },
  {
   "cell_type": "markdown",
   "metadata": {},
   "source": [
    "# Predicting"
   ]
  },
  {
   "cell_type": "code",
   "execution_count": null,
   "metadata": {},
   "outputs": [],
   "source": [
    "#prediction = model.predict([X.iloc[0][:n].reshape(1,20,1),X[.loc[0][:n].reshape(1,20,1)])"
   ]
  }
 ],
 "metadata": {
  "kernelspec": {
   "display_name": "Python 3",
   "language": "python",
   "name": "python3"
  },
  "language_info": {
   "codemirror_mode": {
    "name": "ipython",
    "version": 3
   },
   "file_extension": ".py",
   "mimetype": "text/x-python",
   "name": "python",
   "nbconvert_exporter": "python",
   "pygments_lexer": "ipython3",
   "version": "3.7.3"
  }
 },
 "nbformat": 4,
 "nbformat_minor": 2
}
