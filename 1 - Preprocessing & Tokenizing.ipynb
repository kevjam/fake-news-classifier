{
 "cells": [
  {
   "cell_type": "markdown",
   "metadata": {},
   "source": [
    "# Imports"
   ]
  },
  {
   "cell_type": "code",
   "execution_count": 1,
   "metadata": {},
   "outputs": [
    {
     "name": "stderr",
     "output_type": "stream",
     "text": [
      "Using TensorFlow backend.\n"
     ]
    }
   ],
   "source": [
    "# -------------- Preprocessing Packages --------------\n",
    "# For tokenizing\n",
    "from keras.preprocessing.text import Tokenizer\n",
    "from keras.preprocessing.sequence import pad_sequences\n",
    "\n",
    "# -------------- General Packages --------------\n",
    "# General Use\n",
    "import pandas as pd\n",
    "import numpy as np\n",
    "\n",
    "# For Saving Files\n",
    "import pickle\n",
    "import os"
   ]
  },
  {
   "cell_type": "markdown",
   "metadata": {},
   "source": [
    "# Preprocessing Functions"
   ]
  },
  {
   "cell_type": "code",
   "execution_count": 3,
   "metadata": {},
   "outputs": [],
   "source": [
    "# Filters corrupted, unusable/unused data from the dataset\n",
    "def filter_dataset(df):\n",
    "    df = df.drop(columns=['id','tid1','tid2']) # drop id columns\n",
    "    df = df.drop(columns=['title1_zh','title2_zh']) # drop chinese columns\n",
    "\n",
    "    # Remove symbols\n",
    "    df['title1_en'] = df['title1_en'].str.replace('[^a-zA-Z0-9 ]','')\n",
    "    df['title2_en'] = df['title2_en'].str.replace('[^a-zA-Z0-9 ]','')\n",
    "\n",
    "    # Replace empty strings with NaN values\n",
    "    df['title1_en'].replace('', np.nan, inplace=True)\n",
    "    df['title2_en'].replace('', np.nan, inplace=True)\n",
    "    \n",
    "    # Remove rows with no label\n",
    "    labels = ['unrelated','agreed','disagreed']\n",
    "    df = df[df.label.isin(labels)]\n",
    "    \n",
    "    # Remove Unnamed columns\n",
    "    df = df.loc[:, ~df.columns.str.contains('^Unnamed')]\n",
    "\n",
    "    # Drop rows with null values\n",
    "    df = df.dropna()\n",
    "    return df\n",
    "\n",
    "# Returns a datset with an equal sampling of each label\n",
    "def equalize_dataset_labels(df, seed=1):\n",
    "    # Get minimum label count\n",
    "    n = df.label.value_counts().min()\n",
    "    \n",
    "    # Grabbing equal amounts of training data from each class\n",
    "    dfa = df[df['label']=='unrelated'].sample(n,random_state=seed)\n",
    "    dfb = df[df['label']=='agreed'].sample(n,random_state=seed)\n",
    "    dfc = df[df['label']=='disagreed'].sample(n,random_state=seed)\n",
    "    \n",
    "    # Recombine dataset and shuffle\n",
    "    df = pd.concat([dfa,dfb,dfc])\n",
    "    df = df.sample(frac=1,random_state=seed)\n",
    "    return df\n",
    "\n",
    "# Pads/truncates entries of a series to a max length and tokenizes sentences\n",
    "def pad_data(t,data,maxlen):\n",
    "    return pad_sequences(sequences=t.texts_to_sequences(data), maxlen=maxlen)\n",
    "\n",
    "# Tokenizes titles and encodes labels, trains a word tokenizer that is saved to a file\n",
    "def tokenize(df, output_dir='./', maxlen=20, save=True):\n",
    "    # encoding the labels\n",
    "    labels = {'unrelated':0,'agreed':1,'disagreed':2}\n",
    "    df['label'].replace(labels,inplace=True)\n",
    "    \n",
    "    df = df.reset_index()\n",
    "    \n",
    "    # create the tokenizer\n",
    "    t = Tokenizer(oov_token=True, split=\" \")\n",
    "\n",
    "    # fit the tokenizer on the documents\n",
    "    t.fit_on_texts(df['title1_en'])    \n",
    "    data1 = pad_data(t,df['title1_en'],maxlen)\n",
    "    data2 = pad_data(t,df['title2_en'],maxlen)\n",
    "    \n",
    "    # recombine\n",
    "    df = pd.DataFrame(np.concatenate((data1,data2),axis=1)).join(df['label'])\n",
    "    \n",
    "    # save the tokenizer for future use\n",
    "    if save:\n",
    "        tokenizer_dir = output_dir+'tokenizers/'\n",
    "        os.makedirs(os.path.dirname(tokenizer_dir), exist_ok=True)\n",
    "            \n",
    "        pickle_out = open(tokenizer_dir+'{}len-tokenizer.pickle'.format(maxlen), 'wb')\n",
    "        pickle.dump(t,pickle_out)\n",
    "        pickle_out.close()\n",
    "        \n",
    "    return df\n",
    "\n",
    "# Primary preprocessing function, calls other preprocessing functions and stores data\n",
    "def preprocess(df, output_dir='./', name='', equalize=True, maxlen=20, save=True):\n",
    "    df = filter_dataset(df)    \n",
    "    if(equalize): df = equalize_dataset_labels(df)\n",
    "    df = tokenize(df, output_dir=output_dir, maxlen=maxlen, save=save)\n",
    "\n",
    "    # Split the data into X and y\n",
    "    X = df.iloc[:,:maxlen*2].to_numpy()\n",
    "    y = df['label'].to_numpy()\n",
    "\n",
    "    # reshape the X train data for use\n",
    "    X = X.reshape(X.shape[0],X.shape[1],1)\n",
    "    \n",
    "    if save:\n",
    "        split_data_dir = output_dir+'split_data/'\n",
    "        os.makedirs(os.path.dirname(split_data_dir), exist_ok=True)\n",
    "        \n",
    "        pickle_out = open(split_data_dir+'X'+name+'.pickle', 'wb')\n",
    "        pickle.dump(X,pickle_out)\n",
    "        pickle_out.close()\n",
    "        \n",
    "        pickle_out = open(split_data_dir+'y'+name+'.pickle', 'wb')\n",
    "        pickle.dump(y,pickle_out)\n",
    "        pickle_out.close()\n",
    "    return df"
   ]
  },
  {
   "cell_type": "markdown",
   "metadata": {},
   "source": [
    "# Creating Train/Test Data"
   ]
  },
  {
   "cell_type": "code",
   "execution_count": 4,
   "metadata": {},
   "outputs": [
    {
     "name": "stderr",
     "output_type": "stream",
     "text": [
      "b'Skipping line 7026: expected 8 fields, saw 9\\nSkipping line 44341: expected 8 fields, saw 9\\nSkipping line 58784: expected 8 fields, saw 10\\n'\n",
      "b'Skipping line 99101: expected 8 fields, saw 10\\nSkipping line 104716: expected 8 fields, saw 9\\nSkipping line 127866: expected 8 fields, saw 10\\n'\n",
      "b'Skipping line 140436: expected 8 fields, saw 9\\nSkipping line 152888: expected 8 fields, saw 11\\n'\n"
     ]
    }
   ],
   "source": [
    "input_train = './data/train.csv'\n",
    "input_validation = './data/validation.csv'\n",
    "\n",
    "df = pd.read_csv(input_train,encoding='utf-8-sig',error_bad_lines=False)\n",
    "df = preprocess(df, name='_train')\n",
    "\n",
    "df = pd.read_csv(input_validation,encoding='utf-8-sig',error_bad_lines=False)\n",
    "df = preprocess(df, name='_test')"
   ]
  },
  {
   "cell_type": "markdown",
   "metadata": {},
   "source": [
    "# Resources Used"
   ]
  },
  {
   "cell_type": "markdown",
   "metadata": {},
   "source": [
    "- https://keras.io/preprocessing/text/\n",
    "- https://machinelearningmastery.com/prepare-text-data-deep-learning-keras/\n",
    "- https://www.youtube.com/watch?v=j-3vuBynnOE - Loading in your own data - Deep Learning basics with Python, TensorFlow and Keras p.2\n"
   ]
  }
 ],
 "metadata": {
  "kernelspec": {
   "display_name": "Python 3",
   "language": "python",
   "name": "python3"
  },
  "language_info": {
   "codemirror_mode": {
    "name": "ipython",
    "version": 3
   },
   "file_extension": ".py",
   "mimetype": "text/x-python",
   "name": "python",
   "nbconvert_exporter": "python",
   "pygments_lexer": "ipython3",
   "version": "3.7.3"
  }
 },
 "nbformat": 4,
 "nbformat_minor": 2
}
