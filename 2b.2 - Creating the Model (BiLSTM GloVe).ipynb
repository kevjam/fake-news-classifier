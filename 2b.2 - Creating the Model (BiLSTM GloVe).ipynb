{
 "cells": [
  {
   "cell_type": "markdown",
   "metadata": {},
   "source": [
    "#  Resources Used"
   ]
  },
  {
   "cell_type": "markdown",
   "metadata": {},
   "source": [
    "- https://www.youtube.com/watch?v=lV09_8432VA - Optimizing with TensorBoard - Deep Learning w/ Python, TensorFlow & Keras p.5"
   ]
  },
  {
   "cell_type": "markdown",
   "metadata": {},
   "source": [
    "# Imports"
   ]
  },
  {
   "cell_type": "code",
   "execution_count": 3,
   "metadata": {},
   "outputs": [
    {
     "name": "stderr",
     "output_type": "stream",
     "text": [
      "Using TensorFlow backend.\n"
     ]
    }
   ],
   "source": [
    "# -------------- Modelling Packages --------------\n",
    "# For modeling\n",
    "from keras.models import Model\n",
    "from keras.layers import Concatenate, Input, Dense, Embedding\n",
    "from keras.layers import LSTM, Bidirectional, SpatialDropout1D\n",
    "from keras.layers import TimeDistributed\n",
    "\n",
    "# Callback Functions\n",
    "from keras.callbacks import TensorBoard, ModelCheckpoint, EarlyStopping\n",
    "\n",
    "# For Timestamping Models\n",
    "import time\n",
    "\n",
    "# -------------- General Packages --------------\n",
    "# Data Manipulation\n",
    "import pandas as pd\n",
    "import numpy as np\n",
    "\n",
    "# For Saving Files\n",
    "import pickle\n",
    "import os\n",
    "\n",
    "from sklearn.utils import class_weight"
   ]
  },
  {
   "cell_type": "markdown",
   "metadata": {},
   "source": [
    "# Loading The Dataset"
   ]
  },
  {
   "cell_type": "code",
   "execution_count": 4,
   "metadata": {},
   "outputs": [],
   "source": [
    "# Given the split dataset directory, return the train/test split\n",
    "def load_dataset(split_data_dir):\n",
    "    pickle_in = open(split_data_dir+'X_train.pickle','rb')\n",
    "    X_train = pickle.load(pickle_in)\n",
    "    \n",
    "    pickle_in = open(split_data_dir+'X_test.pickle','rb')\n",
    "    X_test = pickle.load(pickle_in)\n",
    "\n",
    "    pickle_in = open(split_data_dir+'y_train.pickle','rb')\n",
    "    y_train = pickle.load(pickle_in)\n",
    "\n",
    "    pickle_in = open(split_data_dir+'y_test.pickle','rb')\n",
    "    y_test = pickle.load(pickle_in)\n",
    "    return X_train,X_test,y_train,y_test\n",
    "\n",
    "def load_tokenizer(tokenizer_dir):\n",
    "    pickle_in = open(tokenizer_dir,'rb')\n",
    "    t = pickle.load(pickle_in)\n",
    "    return t\n",
    "    \n",
    "split_data_dir = './split_data/'\n",
    "X_train,X_test,y_train,y_test = load_dataset(split_data_dir)\n",
    "\n",
    "tokenizer_dir = 'tokenizer.pickle'\n",
    "t = load_tokenizer(tokenizer_dir)"
   ]
  },
  {
   "cell_type": "markdown",
   "metadata": {},
   "source": [
    "# Parameters"
   ]
  },
  {
   "cell_type": "markdown",
   "metadata": {},
   "source": [
    "https://machinelearningmastery.com/use-word-embedding-layers-deep-learning-keras/"
   ]
  },
  {
   "cell_type": "code",
   "execution_count": 62,
   "metadata": {},
   "outputs": [
    {
     "name": "stdout",
     "output_type": "stream",
     "text": [
      "Loaded 400000 word vectors.\n"
     ]
    }
   ],
   "source": [
    "# load the whole embedding into memory\n",
    "embeddings_index = dict()\n",
    "f = open('./glove/glove.6B.100d.txt', encoding='utf-8')\n",
    "for line in f:\n",
    "    values = line.split()\n",
    "    word = values[0]\n",
    "    coefs = np.asarray(values[1:], dtype='float32')\n",
    "    embeddings_index[word] = coefs\n",
    "f.close()\n",
    "\n",
    "print('Loaded %s word vectors.' % len(embeddings_index))"
   ]
  },
  {
   "cell_type": "code",
   "execution_count": 5,
   "metadata": {},
   "outputs": [],
   "source": [
    "# -------------- Tokenizer Values --------------\n",
    "SENTENCE_SIZE = int(X_train.shape[1]/2)\n",
    "vocab_size = len(t.word_index) + 1"
   ]
  },
  {
   "cell_type": "markdown",
   "metadata": {},
   "source": [
    "https://datascience.stackexchange.com/questions/13490/how-to-set-class-weights-for-imbalanced-classes-in-keras"
   ]
  },
  {
   "cell_type": "code",
   "execution_count": 6,
   "metadata": {},
   "outputs": [],
   "source": [
    "class_weights = class_weight.compute_class_weight('balanced',\n",
    "                                                 np.unique(y_train),\n",
    "                                                 y_train)"
   ]
  },
  {
   "cell_type": "code",
   "execution_count": 7,
   "metadata": {},
   "outputs": [],
   "source": [
    "# -------------- Layer Size Parameters --------------\n",
    "EMBED_SIZE = 100\n",
    "LSTM_SIZE = 2\n",
    "\n",
    "# -------------- DIRECTORIES --------------\n",
    "MODEL_DIR = './models/'\n",
    "NAME = 'BiLSTM_G-{}E-{}L-{}.hdf5'.format(EMBED_SIZE,LSTM_SIZE,time.time())\n",
    "log_dir = os.path.join(\"logs\",NAME)\n",
    "\n",
    "# -------------- Compile Parameters --------------\n",
    "activation = 'softmax'\n",
    "optimizer = 'RMSProp'\n",
    "loss = 'sparse_categorical_crossentropy'\n",
    "metrics = ['accuracy']\n",
    "\n",
    "# -------------- Callbacks --------------\n",
    "# access tensorboard from the command line: tensorboard --logdir logs/\n",
    "tensorboard = TensorBoard(log_dir=log_dir) \n",
    "checkpointer = ModelCheckpoint(MODEL_DIR+NAME, \n",
    "                               monitor='val_accuracy', \n",
    "                               verbose=1, \n",
    "                               save_best_only=True, \n",
    "                               mode='auto')\n",
    "earlystop = EarlyStopping(monitor='val_loss', patience=3)\n",
    "\n",
    "callbacks=[tensorboard,checkpointer,earlystop]\n",
    "\n",
    "\n",
    "# -------------- Fitting Parameters --------------\n",
    "epochs = 100\n",
    "batch_size = 1000"
   ]
  },
  {
   "cell_type": "code",
   "execution_count": 66,
   "metadata": {},
   "outputs": [],
   "source": [
    "# create a weight matrix for words in training docs\n",
    "embedding_matrix = np.zeros((vocab_size, EMBED_SIZE))\n",
    "for word, i in t.word_index.items():\n",
    "    embedding_vector = embeddings_index.get(word)\n",
    "    if embedding_vector is not None:\n",
    "        embedding_matrix[i] = embedding_vector"
   ]
  },
  {
   "cell_type": "markdown",
   "metadata": {},
   "source": [
    "# Model Structure"
   ]
  },
  {
   "cell_type": "code",
   "execution_count": 8,
   "metadata": {},
   "outputs": [],
   "source": [
    "# FIRST MODEL: TITLE1_EN\n",
    "first_input = Input(shape=(SENTENCE_SIZE,))\n",
    "m1 = Embedding(vocab_size,\n",
    "                EMBED_SIZE,\n",
    "                weights=[embedding_matrix],\n",
    "                input_length=SENTENCE_SIZE,\n",
    "                trainable=False)(first_input)\n",
    "m1 = Bidirectional(LSTM(LSTM_SIZE,dropout=0.2, recurrent_dropout=0.2))(m1)\n",
    "\n",
    "# SECOND MODEL: TITLE2_EN\n",
    "second_input = Input(shape=(SENTENCE_SIZE,))\n",
    "m2 = Embedding(vocab_size,\n",
    "                 EMBED_SIZE,\n",
    "                 weights=[embedding_matrix],\n",
    "                 input_length=SENTENCE_SIZE,\n",
    "                 trainable=False)(second_input)\n",
    "m2 = Bidirectional(LSTM(LSTM_SIZE,dropout=0.2, recurrent_dropout=0.2))(m2)\n",
    "\n",
    "# MERGE MODEL\n",
    "merged = Concatenate(axis=1)([m1, m2])\n",
    "output_layer = Dense(3, activation='softmax')(merged)\n",
    "\n",
    "model = Model(inputs=[first_input, second_input], outputs=output_layer)\n",
    "model.compile(optimizer=optimizer, loss=loss,metrics=metrics)"
   ]
  },
  {
   "cell_type": "code",
   "execution_count": 9,
   "metadata": {},
   "outputs": [
    {
     "name": "stdout",
     "output_type": "stream",
     "text": [
      "Model: \"model_1\"\n",
      "__________________________________________________________________________________________________\n",
      "Layer (type)                    Output Shape         Param #     Connected to                     \n",
      "==================================================================================================\n",
      "input_1 (InputLayer)            (None, 25)           0                                            \n",
      "__________________________________________________________________________________________________\n",
      "input_2 (InputLayer)            (None, 25)           0                                            \n",
      "__________________________________________________________________________________________________\n",
      "embedding_1 (Embedding)         (None, 25, 100)      4722000     input_1[0][0]                    \n",
      "__________________________________________________________________________________________________\n",
      "embedding_2 (Embedding)         (None, 25, 100)      4722000     input_2[0][0]                    \n",
      "__________________________________________________________________________________________________\n",
      "bidirectional_1 (Bidirectional) (None, 100)          60400       embedding_1[0][0]                \n",
      "__________________________________________________________________________________________________\n",
      "bidirectional_2 (Bidirectional) (None, 100)          60400       embedding_2[0][0]                \n",
      "__________________________________________________________________________________________________\n",
      "concatenate_1 (Concatenate)     (None, 200)          0           bidirectional_1[0][0]            \n",
      "                                                                 bidirectional_2[0][0]            \n",
      "__________________________________________________________________________________________________\n",
      "dense_1 (Dense)                 (None, 3)            603         concatenate_1[0][0]              \n",
      "==================================================================================================\n",
      "Total params: 9,565,403\n",
      "Trainable params: 9,565,403\n",
      "Non-trainable params: 0\n",
      "__________________________________________________________________________________________________\n"
     ]
    }
   ],
   "source": [
    "model.summary()"
   ]
  },
  {
   "cell_type": "markdown",
   "metadata": {},
   "source": [
    "# Training"
   ]
  },
  {
   "cell_type": "code",
   "execution_count": 10,
   "metadata": {
    "scrolled": false
   },
   "outputs": [
    {
     "name": "stderr",
     "output_type": "stream",
     "text": [
      "C:\\Users\\kevin\\Anaconda3\\lib\\site-packages\\tensorflow_core\\python\\framework\\indexed_slices.py:424: UserWarning: Converting sparse IndexedSlices to a dense Tensor of unknown shape. This may consume a large amount of memory.\n",
      "  \"Converting sparse IndexedSlices to a dense Tensor of unknown shape. \"\n"
     ]
    },
    {
     "name": "stdout",
     "output_type": "stream",
     "text": [
      "Train on 192221 samples, validate on 64087 samples\n",
      "Epoch 1/100\n",
      "  2000/192221 [..............................] - ETA: 15:52 - loss: 1.0421 - accuracy: 0.5910"
     ]
    },
    {
     "name": "stderr",
     "output_type": "stream",
     "text": [
      "C:\\Users\\kevin\\Anaconda3\\lib\\site-packages\\keras\\callbacks\\callbacks.py:95: RuntimeWarning: Method (on_train_batch_end) is slow compared to the batch update (0.855818). Check your callbacks.\n",
      "  % (hook_name, delta_t_median), RuntimeWarning)\n"
     ]
    },
    {
     "name": "stdout",
     "output_type": "stream",
     "text": [
      "192221/192221 [==============================] - 110s 572us/step - loss: 0.5810 - accuracy: 0.7283 - val_loss: 0.4877 - val_accuracy: 0.7774\n",
      "\n",
      "Epoch 00001: val_accuracy improved from -inf to 0.77737, saving model to ./models/FN-100E-50L-1572971605.5422933.hdf5\n",
      "Epoch 2/100\n",
      "192221/192221 [==============================] - 98s 509us/step - loss: 0.4454 - accuracy: 0.7963 - val_loss: 0.4530 - val_accuracy: 0.7982\n",
      "\n",
      "Epoch 00002: val_accuracy improved from 0.77737 to 0.79820, saving model to ./models/FN-100E-50L-1572971605.5422933.hdf5\n",
      "Epoch 3/100\n",
      "192221/192221 [==============================] - 97s 502us/step - loss: 0.3987 - accuracy: 0.8235 - val_loss: 0.4393 - val_accuracy: 0.8020\n",
      "\n",
      "Epoch 00003: val_accuracy improved from 0.79820 to 0.80203, saving model to ./models/FN-100E-50L-1572971605.5422933.hdf5\n",
      "Epoch 4/100\n",
      "192221/192221 [==============================] - 98s 511us/step - loss: 0.3670 - accuracy: 0.8408 - val_loss: 0.4316 - val_accuracy: 0.8097\n",
      "\n",
      "Epoch 00004: val_accuracy improved from 0.80203 to 0.80966, saving model to ./models/FN-100E-50L-1572971605.5422933.hdf5\n",
      "Epoch 5/100\n",
      "192221/192221 [==============================] - 99s 513us/step - loss: 0.3422 - accuracy: 0.8539 - val_loss: 0.4374 - val_accuracy: 0.8151\n",
      "\n",
      "Epoch 00005: val_accuracy improved from 0.80966 to 0.81508, saving model to ./models/FN-100E-50L-1572971605.5422933.hdf5\n",
      "Epoch 6/100\n",
      "192221/192221 [==============================] - 99s 516us/step - loss: 0.3220 - accuracy: 0.8641 - val_loss: 0.4415 - val_accuracy: 0.8170\n",
      "\n",
      "Epoch 00006: val_accuracy improved from 0.81508 to 0.81698, saving model to ./models/FN-100E-50L-1572971605.5422933.hdf5\n",
      "Epoch 7/100\n",
      "192221/192221 [==============================] - 98s 510us/step - loss: 0.3042 - accuracy: 0.8720 - val_loss: 0.4334 - val_accuracy: 0.8214\n",
      "\n",
      "Epoch 00007: val_accuracy improved from 0.81698 to 0.82141, saving model to ./models/FN-100E-50L-1572971605.5422933.hdf5\n"
     ]
    },
    {
     "data": {
      "text/plain": [
       "<keras.callbacks.callbacks.History at 0x2b919b6df28>"
      ]
     },
     "execution_count": 10,
     "metadata": {},
     "output_type": "execute_result"
    }
   ],
   "source": [
    "os.makedirs(os.path.dirname(MODEL_DIR), exist_ok=True)\n",
    "\n",
    "# Training the model\n",
    "model.fit([X_train[:,:SENTENCE_SIZE], X_train[:,SENTENCE_SIZE:]], y_train,\n",
    "          epochs=epochs,\n",
    "          batch_size=batch_size,\n",
    "          validation_data=([X_test[:,:SENTENCE_SIZE], X_test[:,SENTENCE_SIZE:]], y_test),\n",
    "          callbacks=callbacks,\n",
    "          class_weight=class_weights)"
   ]
  },
  {
   "cell_type": "markdown",
   "metadata": {},
   "source": [
    "# Prediction"
   ]
  },
  {
   "cell_type": "code",
   "execution_count": 177,
   "metadata": {},
   "outputs": [],
   "source": [
    "index = 1\n",
    "\n",
    "first_sentence = X_train[index][:SENTENCE_SIZE].reshape(1,20)\n",
    "second_sentence = X_train[index][SENTENCE_SIZE:SENTENCE_SIZE*2].reshape(1,20)\n",
    "\n",
    "prediction = model.predict([first_sentence,second_sentence])"
   ]
  },
  {
   "cell_type": "code",
   "execution_count": 185,
   "metadata": {},
   "outputs": [
    {
     "data": {
      "text/plain": [
       "[0, 0, 1]"
      ]
     },
     "execution_count": 185,
     "metadata": {},
     "output_type": "execute_result"
    }
   ],
   "source": [
    "prediction_list = [int(round(p)) for p in prediction[0]]\n",
    "prediction_list"
   ]
  },
  {
   "cell_type": "code",
   "execution_count": 188,
   "metadata": {},
   "outputs": [
    {
     "data": {
      "text/plain": [
       "2"
      ]
     },
     "execution_count": 188,
     "metadata": {},
     "output_type": "execute_result"
    }
   ],
   "source": [
    "np.argmax(prediction_list)"
   ]
  },
  {
   "cell_type": "code",
   "execution_count": 189,
   "metadata": {},
   "outputs": [
    {
     "data": {
      "text/plain": [
       "2"
      ]
     },
     "execution_count": 189,
     "metadata": {},
     "output_type": "execute_result"
    }
   ],
   "source": [
    "y_train[index]"
   ]
  }
 ],
 "metadata": {
  "kernelspec": {
   "display_name": "Python 3",
   "language": "python",
   "name": "python3"
  },
  "language_info": {
   "codemirror_mode": {
    "name": "ipython",
    "version": 3
   },
   "file_extension": ".py",
   "mimetype": "text/x-python",
   "name": "python",
   "nbconvert_exporter": "python",
   "pygments_lexer": "ipython3",
   "version": "3.7.3"
  }
 },
 "nbformat": 4,
 "nbformat_minor": 2
}
