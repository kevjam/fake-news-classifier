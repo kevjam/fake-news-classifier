{
 "cells": [
  {
   "cell_type": "markdown",
   "metadata": {},
   "source": [
    "### Imports"
   ]
  },
  {
   "cell_type": "code",
   "execution_count": 1,
   "metadata": {},
   "outputs": [
    {
     "name": "stderr",
     "output_type": "stream",
     "text": [
      "Using TensorFlow backend.\n"
     ]
    }
   ],
   "source": [
    "from utils.storage import load_data\n",
    "\n",
    "# -------------- Model Evaluation Packages --------------\n",
    "from keras.models import load_model\n",
    "from sklearn.metrics import classification_report, f1_score\n",
    "\n",
    "# -------------- General Packages --------------\n",
    "# Data Manipulation\n",
    "import numpy as np"
   ]
  },
  {
   "cell_type": "markdown",
   "metadata": {},
   "source": [
    "### Directories"
   ]
  },
  {
   "cell_type": "code",
   "execution_count": 2,
   "metadata": {},
   "outputs": [],
   "source": [
    "MODEL_DIR = './best_model/BiLSTM.hdf5'\n",
    "SPLIT_DATA_DIR = './split_data/'"
   ]
  },
  {
   "cell_type": "markdown",
   "metadata": {},
   "source": [
    "### Loading Train/Validation Data"
   ]
  },
  {
   "cell_type": "code",
   "execution_count": 3,
   "metadata": {},
   "outputs": [],
   "source": [
    "EN_X_train,EN_X_test,ZH_X_train,ZH_X_test,y_train,y_test = load_data(SPLIT_DATA_DIR)"
   ]
  },
  {
   "cell_type": "markdown",
   "metadata": {},
   "source": [
    "### Displaying Classification Reports\n",
    "\n",
    "Here we use the sklearn library to get the metrics of the model via comparing its predictions on the test set vs. the true labels."
   ]
  },
  {
   "cell_type": "code",
   "execution_count": 5,
   "metadata": {},
   "outputs": [
    {
     "name": "stdout",
     "output_type": "stream",
     "text": [
      "Loading model ./best_model/BiLSTM.hdf5\n",
      "WARNING:tensorflow:Large dropout rate: 0.75 (>0.5). In TensorFlow 2.x, dropout() uses dropout rate instead of keep_prob. Please ensure that this is intended.\n",
      "WARNING:tensorflow:Large dropout rate: 0.75 (>0.5). In TensorFlow 2.x, dropout() uses dropout rate instead of keep_prob. Please ensure that this is intended.\n",
      "Getting predictions...\n",
      "Classification report for ./best_model/BiLSTM.hdf5\n",
      "              precision    recall  f1-score   support\n",
      "\n",
      "           0     0.8851    0.9217    0.9031     43836\n",
      "           1     0.8157    0.7722    0.7934     18567\n",
      "           2     0.7747    0.3961    0.5242      1684\n",
      "\n",
      "    accuracy                         0.8646     64087\n",
      "   macro avg     0.8252    0.6967    0.7402     64087\n",
      "weighted avg     0.8621    0.8646    0.8613     64087\n",
      "\n"
     ]
    }
   ],
   "source": [
    "print('Loading model {}'.format(MODEL_DIR))\n",
    "model = load_model(MODEL_DIR, compile=False)\n",
    "\n",
    "print('Getting predictions...')\n",
    "class_predictions = model.predict([EN_X_test,ZH_X_test])\n",
    "label_predictions = np.argmax(class_predictions, axis=1)\n",
    "\n",
    "print('Classification report for {}'.format(MODEL_DIR))\n",
    "print(classification_report(y_test,label_predictions, digits=4))"
   ]
  },
  {
   "cell_type": "code",
   "execution_count": 6,
   "metadata": {},
   "outputs": [
    {
     "name": "stdout",
     "output_type": "stream",
     "text": [
      "Model: \"model_16\"\n",
      "__________________________________________________________________________________________________\n",
      "Layer (type)                    Output Shape         Param #     Connected to                     \n",
      "==================================================================================================\n",
      "input_31 (InputLayer)           (None, 44)           0                                            \n",
      "__________________________________________________________________________________________________\n",
      "input_32 (InputLayer)           (None, 32)           0                                            \n",
      "__________________________________________________________________________________________________\n",
      "reshape_61 (Reshape)            (None, 1, 2, 22)     0           input_31[0][0]                   \n",
      "__________________________________________________________________________________________________\n",
      "reshape_63 (Reshape)            (None, 1, 2, 16)     0           input_32[0][0]                   \n",
      "__________________________________________________________________________________________________\n",
      "embedding_31 (Embedding)        (None, 1, 2, 22, 50) 2042400     reshape_61[0][0]                 \n",
      "__________________________________________________________________________________________________\n",
      "embedding_32 (Embedding)        (None, 1, 2, 16, 50) 3836150     reshape_63[0][0]                 \n",
      "__________________________________________________________________________________________________\n",
      "reshape_62 (Reshape)            (None, 2, 1100)      0           embedding_31[0][0]               \n",
      "__________________________________________________________________________________________________\n",
      "reshape_64 (Reshape)            (None, 2, 800)       0           embedding_32[0][0]               \n",
      "__________________________________________________________________________________________________\n",
      "spatial_dropout1d_23 (SpatialDr (None, 2, 1100)      0           reshape_62[0][0]                 \n",
      "__________________________________________________________________________________________________\n",
      "spatial_dropout1d_24 (SpatialDr (None, 2, 800)       0           reshape_64[0][0]                 \n",
      "__________________________________________________________________________________________________\n",
      "bidirectional_31 (Bidirectional (None, 2, 200)       960800      spatial_dropout1d_23[0][0]       \n",
      "__________________________________________________________________________________________________\n",
      "bidirectional_32 (Bidirectional (None, 2, 200)       720800      spatial_dropout1d_24[0][0]       \n",
      "__________________________________________________________________________________________________\n",
      "concatenate_16 (Concatenate)    (None, 4, 200)       0           bidirectional_31[0][0]           \n",
      "                                                                 bidirectional_32[0][0]           \n",
      "__________________________________________________________________________________________________\n",
      "lstm_48 (LSTM)                  (None, 4, 100)       120400      concatenate_16[0][0]             \n",
      "__________________________________________________________________________________________________\n",
      "flatten_16 (Flatten)            (None, 400)          0           lstm_48[0][0]                    \n",
      "__________________________________________________________________________________________________\n",
      "dense_16 (Dense)                (None, 3)            1203        flatten_16[0][0]                 \n",
      "==================================================================================================\n",
      "Total params: 7,681,753\n",
      "Trainable params: 7,681,753\n",
      "Non-trainable params: 0\n",
      "__________________________________________________________________________________________________\n"
     ]
    }
   ],
   "source": [
    "model.summary()"
   ]
  }
 ],
 "metadata": {
  "kernelspec": {
   "display_name": "Python 3",
   "language": "python",
   "name": "python3"
  },
  "language_info": {
   "codemirror_mode": {
    "name": "ipython",
    "version": 3
   },
   "file_extension": ".py",
   "mimetype": "text/x-python",
   "name": "python",
   "nbconvert_exporter": "python",
   "pygments_lexer": "ipython3",
   "version": "3.7.3"
  }
 },
 "nbformat": 4,
 "nbformat_minor": 2
}
