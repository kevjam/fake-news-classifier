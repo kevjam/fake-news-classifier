{
 "cells": [
  {
   "cell_type": "markdown",
   "metadata": {},
   "source": [
    "### Imports"
   ]
  },
  {
   "cell_type": "code",
   "execution_count": 1,
   "metadata": {
    "scrolled": false
   },
   "outputs": [
    {
     "name": "stderr",
     "output_type": "stream",
     "text": [
      "Using TensorFlow backend.\n"
     ]
    }
   ],
   "source": [
    "# For Saving/Loading Files\n",
    "from utils.storage import load_data,load_tokenizers\n",
    "\n",
    "# -------------- Modelling Packages --------------\n",
    "# For modeling\n",
    "from keras.models import Model, Sequential\n",
    "from keras.layers import Embedding, GRU, Bidirectional\n",
    "from keras.layers import Input, Reshape, SpatialDropout1D, Dense, Flatten\n",
    "from keras.layers import Concatenate\n",
    "from keras import optimizers\n",
    "\n",
    "# Callback Functions\n",
    "from keras.callbacks import TensorBoard, ModelCheckpoint, EarlyStopping\n",
    "\n",
    "# For Timestamping Models\n",
    "import time\n",
    "\n",
    "# For balancing class weights\n",
    "from sklearn.utils import class_weight\n",
    "\n",
    "# -------------- General Packages --------------\n",
    "# Data Manipulation\n",
    "import numpy as np\n",
    "\n",
    "# Saving/Loading\n",
    "import os"
   ]
  },
  {
   "cell_type": "markdown",
   "metadata": {},
   "source": [
    "### Directories"
   ]
  },
  {
   "cell_type": "code",
   "execution_count": 2,
   "metadata": {},
   "outputs": [],
   "source": [
    "MODEL_DIR = './models/'\n",
    "SPLIT_DATA_DIR = './split_data/'\n",
    "LOG_DIR = 'logs'\n",
    "TOKENIZER_DIR = './tokenizers/'"
   ]
  },
  {
   "cell_type": "markdown",
   "metadata": {},
   "source": [
    "### Loading the Dataset + Tokenizers"
   ]
  },
  {
   "cell_type": "code",
   "execution_count": 3,
   "metadata": {},
   "outputs": [],
   "source": [
    "EN_X_train,EN_X_test,ZH_X_train,ZH_X_test,y_train,y_test = load_data(SPLIT_DATA_DIR)\n",
    "t_EN,t_ZH = load_tokenizers(TOKENIZER_DIR)"
   ]
  },
  {
   "cell_type": "markdown",
   "metadata": {},
   "source": [
    "### Creating the Models"
   ]
  },
  {
   "cell_type": "code",
   "execution_count": 4,
   "metadata": {},
   "outputs": [],
   "source": [
    "os.makedirs(os.path.dirname(MODEL_DIR), exist_ok=True)\n",
    "\n",
    "# -------------- Tokenizer Values --------------\n",
    "EN_SENTENCE_SIZE = int(EN_X_train.shape[1]/2)\n",
    "ZH_SENTENCE_SIZE = int(ZH_X_train.shape[1]/2)\n",
    "en_vocab_size = len(t_EN.word_index) + 1\n",
    "zh_vocab_size = len(t_ZH.word_index) + 1\n",
    "class_weights = class_weight.compute_class_weight('balanced',\n",
    "                                                 np.unique(y_train),\n",
    "                                                 y_train)\n",
    "\n",
    "# -------------- TUNABLE HYPERPARAMETERS --------------\n",
    "EMBED_SIZES = [ 50 ]\n",
    "GRU_SIZES = [ 100 ]\n",
    "GRU_LAYER_SIZES = [ 1 ]\n",
    "\n",
    "# DROPOUT_SIZES = [(0.5,0)]\n",
    "# DROPOUT_SIZES = [(0,0),(0,0.5),(0.5,0),(0.5,0.5),\n",
    "#                  (0.25,0.25),(0.25,0.5),(0.5,0.25),(0.25,0),\n",
    "#                  (0,0.25),(0.75,0.75),(0.75,0.5),(0.5,0.75),\n",
    "#                  (0.75,0),(0,0.75),(0.75,0.25),(0.25,0.75)]\n",
    "\n",
    "DROPOUT_SIZES = [(0,0.75),(0.75,0.25),(0.25,0.75)]\n",
    "\n",
    "loss = 'sparse_categorical_crossentropy'\n",
    "optimizer = optimizers.adam()\n",
    "#optimizer = optimizers.sgd(lr=0.01, decay=1e-6, momentum=0.9, nesterov=True)\n",
    "metrics = ['accuracy']\n",
    "\n",
    "epochs = 200\n",
    "batch_size = 1024\n",
    "PATIENCE = 3"
   ]
  },
  {
   "cell_type": "code",
   "execution_count": null,
   "metadata": {
    "scrolled": false
   },
   "outputs": [
    {
     "name": "stdout",
     "output_type": "stream",
     "text": [
      "Creating BiGRU-50E-1x100G-(0, 0)Dropout-1574828593.9030213.hdf5\n"
     ]
    },
    {
     "name": "stderr",
     "output_type": "stream",
     "text": [
      "C:\\Users\\kevin\\Anaconda3\\lib\\site-packages\\tensorflow_core\\python\\framework\\indexed_slices.py:424: UserWarning: Converting sparse IndexedSlices to a dense Tensor of unknown shape. This may consume a large amount of memory.\n",
      "  \"Converting sparse IndexedSlices to a dense Tensor of unknown shape. \"\n"
     ]
    },
    {
     "name": "stdout",
     "output_type": "stream",
     "text": [
      "Train on 192223 samples, validate on 64087 samples\n",
      "Epoch 1/200\n",
      "  2048/192223 [..............................] - ETA: 15:30 - loss: 1.0758 - accuracy: 0.5879"
     ]
    },
    {
     "name": "stderr",
     "output_type": "stream",
     "text": [
      "C:\\Users\\kevin\\Anaconda3\\lib\\site-packages\\keras\\callbacks\\callbacks.py:95: RuntimeWarning: Method (on_train_batch_end) is slow compared to the batch update (0.540691). Check your callbacks.\n",
      "  % (hook_name, delta_t_median), RuntimeWarning)\n"
     ]
    },
    {
     "name": "stdout",
     "output_type": "stream",
     "text": [
      "\b\b\b\b\b\b\b\b\b\b\b\b\b\b\b\b\b\b\b\b\b\b\b\b\b\b\b\b\b\b\b\b\b\b\b\b\b\b\b\b\b\b\b\b\b\b\b\b\b\b\b\b\b\b\b\b\b\b\b\b\b\b\b\b\b\b\b\b\b\b\b\b\b\b\b\b\b\b\b\b\b\b\b\b\b\b\b\b\b\b\b\b\b\r",
      "  3072/192223 [..............................] - ETA: 11:16 - loss: 1.0540 - accuracy: 0.6230"
     ]
    },
    {
     "name": "stderr",
     "output_type": "stream",
     "text": [
      "C:\\Users\\kevin\\Anaconda3\\lib\\site-packages\\keras\\callbacks\\callbacks.py:95: RuntimeWarning: Method (on_train_batch_end) is slow compared to the batch update (0.415761). Check your callbacks.\n",
      "  % (hook_name, delta_t_median), RuntimeWarning)\n"
     ]
    },
    {
     "name": "stdout",
     "output_type": "stream",
     "text": [
      "192223/192223 [==============================] - 59s 305us/step - loss: 0.5041 - accuracy: 0.7816 - val_loss: 0.3712 - val_accuracy: 0.8426\n",
      "\n",
      "Epoch 00001: val_accuracy improved from -inf to 0.84259, saving model to ./models/BiGRU-50E-1x100G-(0, 0)Dropout-1574828593.9030213.hdf5\n",
      "Epoch 2/200\n",
      "192223/192223 [==============================] - 46s 239us/step - loss: 0.2737 - accuracy: 0.8851 - val_loss: 0.3532 - val_accuracy: 0.8526\n",
      "\n",
      "Epoch 00002: val_accuracy improved from 0.84259 to 0.85258, saving model to ./models/BiGRU-50E-1x100G-(0, 0)Dropout-1574828593.9030213.hdf5\n",
      "Epoch 3/200\n",
      "192223/192223 [==============================] - 47s 242us/step - loss: 0.1870 - accuracy: 0.9232 - val_loss: 0.3789 - val_accuracy: 0.8568\n",
      "\n",
      "Epoch 00003: val_accuracy improved from 0.85258 to 0.85682, saving model to ./models/BiGRU-50E-1x100G-(0, 0)Dropout-1574828593.9030213.hdf5\n",
      "Epoch 4/200\n",
      "192223/192223 [==============================] - 45s 236us/step - loss: 0.1324 - accuracy: 0.9483 - val_loss: 0.4204 - val_accuracy: 0.8532\n",
      "\n",
      "Epoch 00004: val_accuracy did not improve from 0.85682\n",
      "Epoch 5/200\n",
      "192223/192223 [==============================] - 44s 231us/step - loss: 0.0983 - accuracy: 0.9642 - val_loss: 0.4847 - val_accuracy: 0.8518\n",
      "\n",
      "Epoch 00005: val_accuracy did not improve from 0.85682\n",
      "Creating BiGRU-50E-1x100G-(0, 0.5)Dropout-1574828846.1844137.hdf5\n"
     ]
    },
    {
     "name": "stderr",
     "output_type": "stream",
     "text": [
      "C:\\Users\\kevin\\Anaconda3\\lib\\site-packages\\tensorflow_core\\python\\framework\\indexed_slices.py:424: UserWarning: Converting sparse IndexedSlices to a dense Tensor of unknown shape. This may consume a large amount of memory.\n",
      "  \"Converting sparse IndexedSlices to a dense Tensor of unknown shape. \"\n"
     ]
    },
    {
     "name": "stdout",
     "output_type": "stream",
     "text": [
      "Train on 192223 samples, validate on 64087 samples\n",
      "Epoch 1/200\n",
      "192223/192223 [==============================] - 49s 254us/step - loss: 0.4339 - accuracy: 0.8090 - val_loss: 0.3401 - val_accuracy: 0.8535\n",
      "\n",
      "Epoch 00001: val_accuracy improved from -inf to 0.85348, saving model to ./models/BiGRU-50E-1x100G-(0, 0.5)Dropout-1574828846.1844137.hdf5\n",
      "Epoch 2/200\n",
      "192223/192223 [==============================] - 45s 234us/step - loss: 0.2196 - accuracy: 0.9095 - val_loss: 0.3500 - val_accuracy: 0.8598\n",
      "\n",
      "Epoch 00002: val_accuracy improved from 0.85348 to 0.85978, saving model to ./models/BiGRU-50E-1x100G-(0, 0.5)Dropout-1574828846.1844137.hdf5\n",
      "Epoch 3/200\n",
      "192223/192223 [==============================] - 45s 234us/step - loss: 0.1303 - accuracy: 0.9488 - val_loss: 0.4115 - val_accuracy: 0.8586\n",
      "\n",
      "Epoch 00003: val_accuracy did not improve from 0.85978\n",
      "Epoch 4/200\n",
      "192223/192223 [==============================] - 45s 234us/step - loss: 0.0798 - accuracy: 0.9706 - val_loss: 0.4988 - val_accuracy: 0.8569\n",
      "\n",
      "Epoch 00004: val_accuracy did not improve from 0.85978\n",
      "Creating BiGRU-50E-1x100G-(0.5, 0)Dropout-1574829039.4294608.hdf5\n"
     ]
    },
    {
     "name": "stderr",
     "output_type": "stream",
     "text": [
      "C:\\Users\\kevin\\Anaconda3\\lib\\site-packages\\tensorflow_core\\python\\framework\\indexed_slices.py:424: UserWarning: Converting sparse IndexedSlices to a dense Tensor of unknown shape. This may consume a large amount of memory.\n",
      "  \"Converting sparse IndexedSlices to a dense Tensor of unknown shape. \"\n"
     ]
    },
    {
     "name": "stdout",
     "output_type": "stream",
     "text": [
      "Train on 192223 samples, validate on 64087 samples\n",
      "Epoch 1/200\n",
      "192223/192223 [==============================] - 51s 264us/step - loss: 0.4542 - accuracy: 0.7975 - val_loss: 0.3511 - val_accuracy: 0.8483\n",
      "\n",
      "Epoch 00001: val_accuracy improved from -inf to 0.84833, saving model to ./models/BiGRU-50E-1x100G-(0.5, 0)Dropout-1574829039.4294608.hdf5\n",
      "Epoch 2/200\n",
      "192223/192223 [==============================] - 47s 243us/step - loss: 0.2708 - accuracy: 0.8863 - val_loss: 0.3346 - val_accuracy: 0.8586\n",
      "\n",
      "Epoch 00002: val_accuracy improved from 0.84833 to 0.85861, saving model to ./models/BiGRU-50E-1x100G-(0.5, 0)Dropout-1574829039.4294608.hdf5\n",
      "Epoch 3/200\n",
      "192223/192223 [==============================] - 47s 244us/step - loss: 0.2039 - accuracy: 0.9159 - val_loss: 0.3565 - val_accuracy: 0.8570\n",
      "\n",
      "Epoch 00003: val_accuracy did not improve from 0.85861\n",
      "Epoch 4/200\n",
      "192223/192223 [==============================] - 47s 245us/step - loss: 0.1619 - accuracy: 0.9335 - val_loss: 0.3811 - val_accuracy: 0.8584\n",
      "\n",
      "Epoch 00004: val_accuracy did not improve from 0.85861\n",
      "Epoch 5/200\n",
      "192223/192223 [==============================] - 48s 252us/step - loss: 0.1356 - accuracy: 0.9454 - val_loss: 0.4014 - val_accuracy: 0.8606\n",
      "\n",
      "Epoch 00005: val_accuracy improved from 0.85861 to 0.86058, saving model to ./models/BiGRU-50E-1x100G-(0.5, 0)Dropout-1574829039.4294608.hdf5\n",
      "Creating BiGRU-50E-1x100G-(0.5, 0.5)Dropout-1574829292.4205437.hdf5\n"
     ]
    },
    {
     "name": "stderr",
     "output_type": "stream",
     "text": [
      "C:\\Users\\kevin\\Anaconda3\\lib\\site-packages\\tensorflow_core\\python\\framework\\indexed_slices.py:424: UserWarning: Converting sparse IndexedSlices to a dense Tensor of unknown shape. This may consume a large amount of memory.\n",
      "  \"Converting sparse IndexedSlices to a dense Tensor of unknown shape. \"\n"
     ]
    },
    {
     "name": "stdout",
     "output_type": "stream",
     "text": [
      "Train on 192223 samples, validate on 64087 samples\n",
      "Epoch 1/200\n",
      "192223/192223 [==============================] - 51s 266us/step - loss: 0.4500 - accuracy: 0.7997 - val_loss: 0.3503 - val_accuracy: 0.8472\n",
      "\n",
      "Epoch 00001: val_accuracy improved from -inf to 0.84722, saving model to ./models/BiGRU-50E-1x100G-(0.5, 0.5)Dropout-1574829292.4205437.hdf5\n",
      "Epoch 2/200\n",
      "192223/192223 [==============================] - 47s 246us/step - loss: 0.2702 - accuracy: 0.8866 - val_loss: 0.3358 - val_accuracy: 0.8586\n",
      "\n",
      "Epoch 00002: val_accuracy improved from 0.84722 to 0.85858, saving model to ./models/BiGRU-50E-1x100G-(0.5, 0.5)Dropout-1574829292.4205437.hdf5\n",
      "Epoch 3/200\n",
      "192223/192223 [==============================] - 47s 246us/step - loss: 0.2073 - accuracy: 0.9146 - val_loss: 0.3530 - val_accuracy: 0.8592\n",
      "\n",
      "Epoch 00003: val_accuracy improved from 0.85858 to 0.85919, saving model to ./models/BiGRU-50E-1x100G-(0.5, 0.5)Dropout-1574829292.4205437.hdf5\n",
      "Epoch 4/200\n",
      "192223/192223 [==============================] - 47s 245us/step - loss: 0.1650 - accuracy: 0.9327 - val_loss: 0.3758 - val_accuracy: 0.8592\n",
      "\n",
      "Epoch 00004: val_accuracy improved from 0.85919 to 0.85924, saving model to ./models/BiGRU-50E-1x100G-(0.5, 0.5)Dropout-1574829292.4205437.hdf5\n",
      "Epoch 5/200\n",
      "192223/192223 [==============================] - 47s 246us/step - loss: 0.1375 - accuracy: 0.9448 - val_loss: 0.3987 - val_accuracy: 0.8590\n",
      "\n",
      "Epoch 00005: val_accuracy did not improve from 0.85924\n",
      "Creating BiGRU-50E-1x100G-(0.25, 0.25)Dropout-1574829549.4543834.hdf5\n"
     ]
    },
    {
     "name": "stderr",
     "output_type": "stream",
     "text": [
      "C:\\Users\\kevin\\Anaconda3\\lib\\site-packages\\tensorflow_core\\python\\framework\\indexed_slices.py:424: UserWarning: Converting sparse IndexedSlices to a dense Tensor of unknown shape. This may consume a large amount of memory.\n",
      "  \"Converting sparse IndexedSlices to a dense Tensor of unknown shape. \"\n"
     ]
    },
    {
     "name": "stdout",
     "output_type": "stream",
     "text": [
      "Train on 192223 samples, validate on 64087 samples\n",
      "Epoch 1/200\n",
      "192223/192223 [==============================] - 53s 275us/step - loss: 0.4400 - accuracy: 0.8040 - val_loss: 0.3391 - val_accuracy: 0.8534\n",
      "\n",
      "Epoch 00001: val_accuracy improved from -inf to 0.85339, saving model to ./models/BiGRU-50E-1x100G-(0.25, 0.25)Dropout-1574829549.4543834.hdf5\n",
      "Epoch 2/200\n",
      "192223/192223 [==============================] - 48s 249us/step - loss: 0.2312 - accuracy: 0.9036 - val_loss: 0.3417 - val_accuracy: 0.8605\n",
      "\n",
      "Epoch 00002: val_accuracy improved from 0.85339 to 0.86046, saving model to ./models/BiGRU-50E-1x100G-(0.25, 0.25)Dropout-1574829549.4543834.hdf5\n",
      "Epoch 3/200\n",
      "192223/192223 [==============================] - 47s 246us/step - loss: 0.1491 - accuracy: 0.9400 - val_loss: 0.3936 - val_accuracy: 0.8598\n",
      "\n",
      "Epoch 00003: val_accuracy did not improve from 0.86046\n",
      "Epoch 4/200\n",
      "192223/192223 [==============================] - 48s 248us/step - loss: 0.1005 - accuracy: 0.9613 - val_loss: 0.4447 - val_accuracy: 0.8583\n",
      "\n",
      "Epoch 00004: val_accuracy did not improve from 0.86046\n",
      "Creating BiGRU-50E-1x100G-(0.25, 0.5)Dropout-1574829763.9738278.hdf5\n"
     ]
    },
    {
     "name": "stderr",
     "output_type": "stream",
     "text": [
      "C:\\Users\\kevin\\Anaconda3\\lib\\site-packages\\tensorflow_core\\python\\framework\\indexed_slices.py:424: UserWarning: Converting sparse IndexedSlices to a dense Tensor of unknown shape. This may consume a large amount of memory.\n",
      "  \"Converting sparse IndexedSlices to a dense Tensor of unknown shape. \"\n"
     ]
    },
    {
     "name": "stdout",
     "output_type": "stream",
     "text": [
      "Train on 192223 samples, validate on 64087 samples\n",
      "Epoch 1/200\n",
      "192223/192223 [==============================] - 51s 265us/step - loss: 0.4354 - accuracy: 0.8071 - val_loss: 0.3397 - val_accuracy: 0.8543\n",
      "\n",
      "Epoch 00001: val_accuracy improved from -inf to 0.85432, saving model to ./models/BiGRU-50E-1x100G-(0.25, 0.5)Dropout-1574829763.9738278.hdf5\n",
      "Epoch 2/200\n",
      "192223/192223 [==============================] - 47s 247us/step - loss: 0.2332 - accuracy: 0.9027 - val_loss: 0.3415 - val_accuracy: 0.8617\n",
      "\n",
      "Epoch 00002: val_accuracy improved from 0.85432 to 0.86166, saving model to ./models/BiGRU-50E-1x100G-(0.25, 0.5)Dropout-1574829763.9738278.hdf5\n",
      "Epoch 3/200\n",
      "192223/192223 [==============================] - 47s 245us/step - loss: 0.1514 - accuracy: 0.9394 - val_loss: 0.3875 - val_accuracy: 0.8580\n",
      "\n",
      "Epoch 00003: val_accuracy did not improve from 0.86166\n",
      "Epoch 4/200\n",
      "192223/192223 [==============================] - 47s 247us/step - loss: 0.1053 - accuracy: 0.9589 - val_loss: 0.4472 - val_accuracy: 0.8598\n",
      "\n",
      "Epoch 00004: val_accuracy did not improve from 0.86166\n",
      "Creating BiGRU-50E-1x100G-(0.5, 0.25)Dropout-1574829980.343144.hdf5\n"
     ]
    },
    {
     "name": "stderr",
     "output_type": "stream",
     "text": [
      "C:\\Users\\kevin\\Anaconda3\\lib\\site-packages\\tensorflow_core\\python\\framework\\indexed_slices.py:424: UserWarning: Converting sparse IndexedSlices to a dense Tensor of unknown shape. This may consume a large amount of memory.\n",
      "  \"Converting sparse IndexedSlices to a dense Tensor of unknown shape. \"\n"
     ]
    },
    {
     "name": "stdout",
     "output_type": "stream",
     "text": [
      "Train on 192223 samples, validate on 64087 samples\n",
      "Epoch 1/200\n",
      "192223/192223 [==============================] - 51s 267us/step - loss: 0.4496 - accuracy: 0.7985 - val_loss: 0.3479 - val_accuracy: 0.8494\n",
      "\n",
      "Epoch 00001: val_accuracy improved from -inf to 0.84941, saving model to ./models/BiGRU-50E-1x100G-(0.5, 0.25)Dropout-1574829980.343144.hdf5\n",
      "Epoch 2/200\n",
      "192223/192223 [==============================] - 49s 257us/step - loss: 0.2697 - accuracy: 0.8878 - val_loss: 0.3411 - val_accuracy: 0.8574\n",
      "\n",
      "Epoch 00002: val_accuracy improved from 0.84941 to 0.85735, saving model to ./models/BiGRU-50E-1x100G-(0.5, 0.25)Dropout-1574829980.343144.hdf5\n",
      "Epoch 3/200\n",
      "192223/192223 [==============================] - 47s 246us/step - loss: 0.2016 - accuracy: 0.9164 - val_loss: 0.3508 - val_accuracy: 0.8617\n",
      "\n",
      "Epoch 00003: val_accuracy improved from 0.85735 to 0.86173, saving model to ./models/BiGRU-50E-1x100G-(0.5, 0.25)Dropout-1574829980.343144.hdf5\n",
      "Epoch 4/200\n",
      "192223/192223 [==============================] - 48s 247us/step - loss: 0.1628 - accuracy: 0.9337 - val_loss: 0.3691 - val_accuracy: 0.8614\n",
      "\n",
      "Epoch 00004: val_accuracy did not improve from 0.86173\n",
      "Epoch 5/200\n",
      "192223/192223 [==============================] - 47s 246us/step - loss: 0.1344 - accuracy: 0.9457 - val_loss: 0.4029 - val_accuracy: 0.8595\n",
      "\n",
      "Epoch 00005: val_accuracy did not improve from 0.86173\n",
      "Creating BiGRU-50E-1x100G-(0.25, 0)Dropout-1574830251.4143076.hdf5\n"
     ]
    },
    {
     "name": "stderr",
     "output_type": "stream",
     "text": [
      "C:\\Users\\kevin\\Anaconda3\\lib\\site-packages\\tensorflow_core\\python\\framework\\indexed_slices.py:424: UserWarning: Converting sparse IndexedSlices to a dense Tensor of unknown shape. This may consume a large amount of memory.\n",
      "  \"Converting sparse IndexedSlices to a dense Tensor of unknown shape. \"\n"
     ]
    },
    {
     "name": "stdout",
     "output_type": "stream",
     "text": [
      "Train on 192223 samples, validate on 64087 samples\n",
      "Epoch 1/200\n",
      "192223/192223 [==============================] - 51s 265us/step - loss: 0.4364 - accuracy: 0.8084 - val_loss: 0.3405 - val_accuracy: 0.8533\n",
      "\n",
      "Epoch 00001: val_accuracy improved from -inf to 0.85326, saving model to ./models/BiGRU-50E-1x100G-(0.25, 0)Dropout-1574830251.4143076.hdf5\n",
      "Epoch 2/200\n",
      "192223/192223 [==============================] - 47s 244us/step - loss: 0.2299 - accuracy: 0.9041 - val_loss: 0.3448 - val_accuracy: 0.8598\n",
      "\n",
      "Epoch 00002: val_accuracy improved from 0.85326 to 0.85982, saving model to ./models/BiGRU-50E-1x100G-(0.25, 0)Dropout-1574830251.4143076.hdf5\n",
      "Epoch 3/200\n",
      "192223/192223 [==============================] - 47s 247us/step - loss: 0.1447 - accuracy: 0.9418 - val_loss: 0.3905 - val_accuracy: 0.8569\n",
      "\n",
      "Epoch 00003: val_accuracy did not improve from 0.85982\n",
      "Epoch 4/200\n",
      "192223/192223 [==============================] - 47s 247us/step - loss: 0.0970 - accuracy: 0.9623 - val_loss: 0.4710 - val_accuracy: 0.8532\n",
      "\n",
      "Epoch 00004: val_accuracy did not improve from 0.85982\n",
      "Creating BiGRU-50E-1x100G-(0, 0.25)Dropout-1574830473.0903265.hdf5\n"
     ]
    },
    {
     "name": "stderr",
     "output_type": "stream",
     "text": [
      "C:\\Users\\kevin\\Anaconda3\\lib\\site-packages\\tensorflow_core\\python\\framework\\indexed_slices.py:424: UserWarning: Converting sparse IndexedSlices to a dense Tensor of unknown shape. This may consume a large amount of memory.\n",
      "  \"Converting sparse IndexedSlices to a dense Tensor of unknown shape. \"\n"
     ]
    },
    {
     "name": "stdout",
     "output_type": "stream",
     "text": [
      "Train on 192223 samples, validate on 64087 samples\n",
      "Epoch 1/200\n",
      "192223/192223 [==============================] - 50s 259us/step - loss: 0.4271 - accuracy: 0.8113 - val_loss: 0.3366 - val_accuracy: 0.8566\n",
      "\n",
      "Epoch 00001: val_accuracy improved from -inf to 0.85657, saving model to ./models/BiGRU-50E-1x100G-(0, 0.25)Dropout-1574830473.0903265.hdf5\n",
      "Epoch 2/200\n",
      "192223/192223 [==============================] - 45s 235us/step - loss: 0.2134 - accuracy: 0.9119 - val_loss: 0.3531 - val_accuracy: 0.8630\n",
      "\n",
      "Epoch 00002: val_accuracy improved from 0.85657 to 0.86295, saving model to ./models/BiGRU-50E-1x100G-(0, 0.25)Dropout-1574830473.0903265.hdf5\n",
      "Epoch 3/200\n",
      "192223/192223 [==============================] - 45s 234us/step - loss: 0.1181 - accuracy: 0.9538 - val_loss: 0.4119 - val_accuracy: 0.8609\n",
      "\n",
      "Epoch 00003: val_accuracy did not improve from 0.86295\n",
      "Epoch 4/200\n",
      "192223/192223 [==============================] - 45s 235us/step - loss: 0.0665 - accuracy: 0.9762 - val_loss: 0.5141 - val_accuracy: 0.8564\n",
      "\n",
      "Epoch 00004: val_accuracy did not improve from 0.86295\n",
      "Creating BiGRU-50E-1x100G-(0.75, 0.75)Dropout-1574830691.7271037.hdf5\n",
      "WARNING:tensorflow:Large dropout rate: 0.75 (>0.5). In TensorFlow 2.x, dropout() uses dropout rate instead of keep_prob. Please ensure that this is intended.\n",
      "WARNING:tensorflow:Large dropout rate: 0.75 (>0.5). In TensorFlow 2.x, dropout() uses dropout rate instead of keep_prob. Please ensure that this is intended.\n",
      "WARNING:tensorflow:Large dropout rate: 0.75 (>0.5). In TensorFlow 2.x, dropout() uses dropout rate instead of keep_prob. Please ensure that this is intended.\n",
      "WARNING:tensorflow:Large dropout rate: 0.75 (>0.5). In TensorFlow 2.x, dropout() uses dropout rate instead of keep_prob. Please ensure that this is intended.\n",
      "WARNING:tensorflow:Large dropout rate: 0.75 (>0.5). In TensorFlow 2.x, dropout() uses dropout rate instead of keep_prob. Please ensure that this is intended.\n"
     ]
    },
    {
     "name": "stderr",
     "output_type": "stream",
     "text": [
      "C:\\Users\\kevin\\Anaconda3\\lib\\site-packages\\tensorflow_core\\python\\framework\\indexed_slices.py:424: UserWarning: Converting sparse IndexedSlices to a dense Tensor of unknown shape. This may consume a large amount of memory.\n",
      "  \"Converting sparse IndexedSlices to a dense Tensor of unknown shape. \"\n"
     ]
    },
    {
     "name": "stdout",
     "output_type": "stream",
     "text": [
      "Train on 192223 samples, validate on 64087 samples\n",
      "Epoch 1/200\n",
      "  2048/192223 [..............................] - ETA: 9:06 - loss: 1.0299 - accuracy: 0.4849 "
     ]
    },
    {
     "name": "stderr",
     "output_type": "stream",
     "text": [
      "C:\\Users\\kevin\\Anaconda3\\lib\\site-packages\\keras\\callbacks\\callbacks.py:95: RuntimeWarning: Method (on_train_batch_end) is slow compared to the batch update (0.332392). Check your callbacks.\n",
      "  % (hook_name, delta_t_median), RuntimeWarning)\n"
     ]
    },
    {
     "name": "stdout",
     "output_type": "stream",
     "text": [
      "192223/192223 [==============================] - 54s 280us/step - loss: 0.4996 - accuracy: 0.7732 - val_loss: 0.3797 - val_accuracy: 0.8328\n",
      "\n",
      "Epoch 00001: val_accuracy improved from -inf to 0.83284, saving model to ./models/BiGRU-50E-1x100G-(0.75, 0.75)Dropout-1574830691.7271037.hdf5\n",
      "Epoch 2/200\n",
      "192223/192223 [==============================] - 47s 246us/step - loss: 0.3498 - accuracy: 0.8480 - val_loss: 0.3478 - val_accuracy: 0.8495\n",
      "\n",
      "Epoch 00002: val_accuracy improved from 0.83284 to 0.84950, saving model to ./models/BiGRU-50E-1x100G-(0.75, 0.75)Dropout-1574830691.7271037.hdf5\n",
      "Epoch 3/200\n",
      "192223/192223 [==============================] - 48s 247us/step - loss: 0.3029 - accuracy: 0.8707 - val_loss: 0.3415 - val_accuracy: 0.8550\n",
      "\n",
      "Epoch 00003: val_accuracy improved from 0.84950 to 0.85498, saving model to ./models/BiGRU-50E-1x100G-(0.75, 0.75)Dropout-1574830691.7271037.hdf5\n",
      "Epoch 4/200\n",
      "192223/192223 [==============================] - 47s 247us/step - loss: 0.2741 - accuracy: 0.8843 - val_loss: 0.3384 - val_accuracy: 0.8578\n",
      "\n",
      "Epoch 00004: val_accuracy improved from 0.85498 to 0.85776, saving model to ./models/BiGRU-50E-1x100G-(0.75, 0.75)Dropout-1574830691.7271037.hdf5\n",
      "Epoch 5/200\n",
      "192223/192223 [==============================] - 47s 245us/step - loss: 0.2499 - accuracy: 0.8958 - val_loss: 0.3402 - val_accuracy: 0.8602\n",
      "\n",
      "Epoch 00005: val_accuracy improved from 0.85776 to 0.86021, saving model to ./models/BiGRU-50E-1x100G-(0.75, 0.75)Dropout-1574830691.7271037.hdf5\n",
      "Epoch 6/200\n",
      "192223/192223 [==============================] - 48s 248us/step - loss: 0.2310 - accuracy: 0.9033 - val_loss: 0.3433 - val_accuracy: 0.8619\n",
      "\n",
      "Epoch 00006: val_accuracy improved from 0.86021 to 0.86188, saving model to ./models/BiGRU-50E-1x100G-(0.75, 0.75)Dropout-1574830691.7271037.hdf5\n",
      "Epoch 7/200\n",
      "192223/192223 [==============================] - 48s 248us/step - loss: 0.2178 - accuracy: 0.9099 - val_loss: 0.3518 - val_accuracy: 0.8605\n",
      "\n",
      "Epoch 00007: val_accuracy did not improve from 0.86188\n",
      "Creating BiGRU-50E-1x100G-(0.75, 0.5)Dropout-1574831070.01593.hdf5\n"
     ]
    },
    {
     "name": "stderr",
     "output_type": "stream",
     "text": [
      "C:\\Users\\kevin\\Anaconda3\\lib\\site-packages\\tensorflow_core\\python\\framework\\indexed_slices.py:424: UserWarning: Converting sparse IndexedSlices to a dense Tensor of unknown shape. This may consume a large amount of memory.\n",
      "  \"Converting sparse IndexedSlices to a dense Tensor of unknown shape. \"\n"
     ]
    },
    {
     "name": "stdout",
     "output_type": "stream",
     "text": [
      "Train on 192223 samples, validate on 64087 samples\n",
      "Epoch 1/200\n",
      "192223/192223 [==============================] - 52s 272us/step - loss: 0.4872 - accuracy: 0.7791 - val_loss: 0.3743 - val_accuracy: 0.8370\n",
      "\n",
      "Epoch 00001: val_accuracy improved from -inf to 0.83703, saving model to ./models/BiGRU-50E-1x100G-(0.75, 0.5)Dropout-1574831070.01593.hdf5\n",
      "Epoch 2/200\n",
      "192223/192223 [==============================] - 47s 246us/step - loss: 0.3422 - accuracy: 0.8508 - val_loss: 0.3463 - val_accuracy: 0.8491\n",
      "\n",
      "Epoch 00002: val_accuracy improved from 0.83703 to 0.84908, saving model to ./models/BiGRU-50E-1x100G-(0.75, 0.5)Dropout-1574831070.01593.hdf5\n",
      "Epoch 3/200\n",
      "192223/192223 [==============================] - 48s 252us/step - loss: 0.2959 - accuracy: 0.8736 - val_loss: 0.3381 - val_accuracy: 0.8564\n",
      "\n",
      "Epoch 00003: val_accuracy improved from 0.84908 to 0.85638, saving model to ./models/BiGRU-50E-1x100G-(0.75, 0.5)Dropout-1574831070.01593.hdf5\n",
      "Epoch 4/200\n",
      "192223/192223 [==============================] - 47s 247us/step - loss: 0.2663 - accuracy: 0.8880 - val_loss: 0.3438 - val_accuracy: 0.8563\n",
      "\n",
      "Epoch 00004: val_accuracy did not improve from 0.85638\n",
      "Epoch 5/200\n",
      "192223/192223 [==============================] - 47s 246us/step - loss: 0.2458 - accuracy: 0.8975 - val_loss: 0.3359 - val_accuracy: 0.8619\n",
      "\n",
      "Epoch 00005: val_accuracy improved from 0.85638 to 0.86194, saving model to ./models/BiGRU-50E-1x100G-(0.75, 0.5)Dropout-1574831070.01593.hdf5\n",
      "Epoch 6/200\n",
      "192223/192223 [==============================] - 47s 247us/step - loss: 0.2258 - accuracy: 0.9055 - val_loss: 0.3484 - val_accuracy: 0.8595\n",
      "\n",
      "Epoch 00006: val_accuracy did not improve from 0.86194\n",
      "Epoch 7/200\n",
      "192223/192223 [==============================] - 47s 246us/step - loss: 0.2121 - accuracy: 0.9116 - val_loss: 0.3553 - val_accuracy: 0.8593\n",
      "\n",
      "Epoch 00007: val_accuracy did not improve from 0.86194\n",
      "Epoch 8/200\n",
      "192223/192223 [==============================] - 47s 246us/step - loss: 0.2005 - accuracy: 0.9171 - val_loss: 0.3526 - val_accuracy: 0.8623\n",
      "\n",
      "Epoch 00008: val_accuracy improved from 0.86194 to 0.86233, saving model to ./models/BiGRU-50E-1x100G-(0.75, 0.5)Dropout-1574831070.01593.hdf5\n",
      "Creating BiGRU-50E-1x100G-(0.5, 0.75)Dropout-1574831514.7778163.hdf5\n"
     ]
    },
    {
     "name": "stderr",
     "output_type": "stream",
     "text": [
      "C:\\Users\\kevin\\Anaconda3\\lib\\site-packages\\tensorflow_core\\python\\framework\\indexed_slices.py:424: UserWarning: Converting sparse IndexedSlices to a dense Tensor of unknown shape. This may consume a large amount of memory.\n",
      "  \"Converting sparse IndexedSlices to a dense Tensor of unknown shape. \"\n"
     ]
    },
    {
     "name": "stdout",
     "output_type": "stream",
     "text": [
      "Train on 192223 samples, validate on 64087 samples\n",
      "Epoch 1/200\n",
      "  2048/192223 [..............................] - ETA: 38:26 - loss: 1.0094 - accuracy: 0.5171  "
     ]
    },
    {
     "name": "stderr",
     "output_type": "stream",
     "text": [
      "C:\\Users\\kevin\\Anaconda3\\lib\\site-packages\\keras\\callbacks\\callbacks.py:95: RuntimeWarning: Method (on_train_batch_end) is slow compared to the batch update (5.052072). Check your callbacks.\n",
      "  % (hook_name, delta_t_median), RuntimeWarning)\n"
     ]
    },
    {
     "name": "stdout",
     "output_type": "stream",
     "text": [
      "\b\b\b\b\b\b\b\b\b\b\b\b\b\b\b\b\b\b\b\b\b\b\b\b\b\b\b\b\b\b\b\b\b\b\b\b\b\b\b\b\b\b\b\b\b\b\b\b\b\b\b\b\b\b\b\b\b\b\b\b\b\b\b\b\b\b\b\b\b\b\b\b\b\b\b\b\b\b\b\b\b\b\b\b\b\b\b\b\b\b\b\b\b\r",
      "  3072/192223 [..............................] - ETA: 32:37 - loss: 0.9436 - accuracy: 0.5684"
     ]
    },
    {
     "name": "stderr",
     "output_type": "stream",
     "text": [
      "C:\\Users\\kevin\\Anaconda3\\lib\\site-packages\\keras\\callbacks\\callbacks.py:95: RuntimeWarning: Method (on_train_batch_end) is slow compared to the batch update (3.627630). Check your callbacks.\n",
      "  % (hook_name, delta_t_median), RuntimeWarning)\n"
     ]
    },
    {
     "name": "stdout",
     "output_type": "stream",
     "text": [
      "\b\b\b\b\b\b\b\b\b\b\b\b\b\b\b\b\b\b\b\b\b\b\b\b\b\b\b\b\b\b\b\b\b\b\b\b\b\b\b\b\b\b\b\b\b\b\b\b\b\b\b\b\b\b\b\b\b\b\b\b\b\b\b\b\b\b\b\b\b\b\b\b\b\b\b\b\b\b\b\b\b\b\b\b\b\b\b\b\b\b\b\b\b\r",
      "  4096/192223 [..............................] - ETA: 24:31 - loss: 0.9044 - accuracy: 0.5930"
     ]
    },
    {
     "name": "stderr",
     "output_type": "stream",
     "text": [
      "C:\\Users\\kevin\\Anaconda3\\lib\\site-packages\\keras\\callbacks\\callbacks.py:95: RuntimeWarning: Method (on_train_batch_end) is slow compared to the batch update (1.814815). Check your callbacks.\n",
      "  % (hook_name, delta_t_median), RuntimeWarning)\n"
     ]
    },
    {
     "name": "stdout",
     "output_type": "stream",
     "text": [
      "192223/192223 [==============================] - 80s 417us/step - loss: 0.4578 - accuracy: 0.7961 - val_loss: 0.3543 - val_accuracy: 0.8464\n",
      "\n",
      "Epoch 00001: val_accuracy improved from -inf to 0.84637, saving model to ./models/BiGRU-50E-1x100G-(0.5, 0.75)Dropout-1574831514.7778163.hdf5\n",
      "Epoch 2/200\n",
      "192223/192223 [==============================] - 48s 251us/step - loss: 0.2785 - accuracy: 0.8831 - val_loss: 0.3386 - val_accuracy: 0.8577\n",
      "\n",
      "Epoch 00002: val_accuracy improved from 0.84637 to 0.85766, saving model to ./models/BiGRU-50E-1x100G-(0.5, 0.75)Dropout-1574831514.7778163.hdf5\n",
      "Epoch 3/200\n",
      "192223/192223 [==============================] - 47s 247us/step - loss: 0.2153 - accuracy: 0.9110 - val_loss: 0.3506 - val_accuracy: 0.8614\n",
      "\n",
      "Epoch 00003: val_accuracy improved from 0.85766 to 0.86138, saving model to ./models/BiGRU-50E-1x100G-(0.5, 0.75)Dropout-1574831514.7778163.hdf5\n",
      "Epoch 4/200\n",
      "192223/192223 [==============================] - 47s 247us/step - loss: 0.1747 - accuracy: 0.9286 - val_loss: 0.3713 - val_accuracy: 0.8592\n",
      "\n",
      "Epoch 00004: val_accuracy did not improve from 0.86138\n",
      "Epoch 5/200\n",
      "192223/192223 [==============================] - 48s 247us/step - loss: 0.1471 - accuracy: 0.9407 - val_loss: 0.4037 - val_accuracy: 0.8586\n",
      "\n",
      "Epoch 00005: val_accuracy did not improve from 0.86138\n",
      "Creating BiGRU-50E-1x100G-(0.75, 0)Dropout-1574831895.9012818.hdf5\n"
     ]
    },
    {
     "name": "stderr",
     "output_type": "stream",
     "text": [
      "C:\\Users\\kevin\\Anaconda3\\lib\\site-packages\\tensorflow_core\\python\\framework\\indexed_slices.py:424: UserWarning: Converting sparse IndexedSlices to a dense Tensor of unknown shape. This may consume a large amount of memory.\n",
      "  \"Converting sparse IndexedSlices to a dense Tensor of unknown shape. \"\n"
     ]
    },
    {
     "name": "stdout",
     "output_type": "stream",
     "text": [
      "Train on 192223 samples, validate on 64087 samples\n",
      "Epoch 1/200\n",
      "  3072/192223 [..............................] - ETA: 6:41 - loss: 0.9676 - accuracy: 0.5830"
     ]
    },
    {
     "name": "stderr",
     "output_type": "stream",
     "text": [
      "C:\\Users\\kevin\\Anaconda3\\lib\\site-packages\\keras\\callbacks\\callbacks.py:95: RuntimeWarning: Method (on_train_batch_end) is slow compared to the batch update (0.703078). Check your callbacks.\n",
      "  % (hook_name, delta_t_median), RuntimeWarning)\n"
     ]
    },
    {
     "name": "stdout",
     "output_type": "stream",
     "text": [
      "\b\b\b\b\b\b\b\b\b\b\b\b\b\b\b\b\b\b\b\b\b\b\b\b\b\b\b\b\b\b\b\b\b\b\b\b\b\b\b\b\b\b\b\b\b\b\b\b\b\b\b\b\b\b\b\b\b\b\b\b\b\b\b\b\b\b\b\b\b\b\b\b\b\b\b\b\b\b\b\b\b\b\b\b\b\b\b\b\b\b\b\b\r",
      "  4096/192223 [..............................] - ETA: 5:10 - loss: 0.9242 - accuracy: 0.6133"
     ]
    },
    {
     "name": "stderr",
     "output_type": "stream",
     "text": [
      "C:\\Users\\kevin\\Anaconda3\\lib\\site-packages\\keras\\callbacks\\callbacks.py:95: RuntimeWarning: Method (on_train_batch_end) is slow compared to the batch update (0.353039). Check your callbacks.\n",
      "  % (hook_name, delta_t_median), RuntimeWarning)\n"
     ]
    },
    {
     "name": "stdout",
     "output_type": "stream",
     "text": [
      "192223/192223 [==============================] - 53s 278us/step - loss: 0.4861 - accuracy: 0.7792 - val_loss: 0.3722 - val_accuracy: 0.8351\n",
      "\n",
      "Epoch 00001: val_accuracy improved from -inf to 0.83508, saving model to ./models/BiGRU-50E-1x100G-(0.75, 0)Dropout-1574831895.9012818.hdf5\n",
      "Epoch 2/200\n",
      "192223/192223 [==============================] - 48s 249us/step - loss: 0.3385 - accuracy: 0.8520 - val_loss: 0.3428 - val_accuracy: 0.8510\n",
      "\n",
      "Epoch 00002: val_accuracy improved from 0.83508 to 0.85103, saving model to ./models/BiGRU-50E-1x100G-(0.75, 0)Dropout-1574831895.9012818.hdf5\n",
      "Epoch 3/200\n",
      "192223/192223 [==============================] - 47s 246us/step - loss: 0.2911 - accuracy: 0.8751 - val_loss: 0.3352 - val_accuracy: 0.8566\n",
      "\n",
      "Epoch 00003: val_accuracy improved from 0.85103 to 0.85665, saving model to ./models/BiGRU-50E-1x100G-(0.75, 0)Dropout-1574831895.9012818.hdf5\n",
      "Epoch 4/200\n",
      "192223/192223 [==============================] - 47s 243us/step - loss: 0.2608 - accuracy: 0.8901 - val_loss: 0.3344 - val_accuracy: 0.8573\n",
      "\n",
      "Epoch 00004: val_accuracy improved from 0.85665 to 0.85729, saving model to ./models/BiGRU-50E-1x100G-(0.75, 0)Dropout-1574831895.9012818.hdf5\n",
      "Epoch 5/200\n",
      "192223/192223 [==============================] - 47s 243us/step - loss: 0.2380 - accuracy: 0.8998 - val_loss: 0.3348 - val_accuracy: 0.8624\n",
      "\n",
      "Epoch 00005: val_accuracy improved from 0.85729 to 0.86239, saving model to ./models/BiGRU-50E-1x100G-(0.75, 0)Dropout-1574831895.9012818.hdf5\n",
      "Epoch 6/200\n",
      "192223/192223 [==============================] - 47s 244us/step - loss: 0.2202 - accuracy: 0.9075 - val_loss: 0.3417 - val_accuracy: 0.8621\n",
      "\n",
      "Epoch 00006: val_accuracy did not improve from 0.86239\n",
      "Epoch 7/200\n",
      "192223/192223 [==============================] - 47s 242us/step - loss: 0.2065 - accuracy: 0.9144 - val_loss: 0.3430 - val_accuracy: 0.8603\n",
      "\n",
      "Epoch 00007: val_accuracy did not improve from 0.86239\n",
      "Creating BiGRU-50E-1x100G-(0, 0.75)Dropout-1574832340.728988.hdf5\n"
     ]
    },
    {
     "name": "stderr",
     "output_type": "stream",
     "text": [
      "C:\\Users\\kevin\\Anaconda3\\lib\\site-packages\\tensorflow_core\\python\\framework\\indexed_slices.py:424: UserWarning: Converting sparse IndexedSlices to a dense Tensor of unknown shape. This may consume a large amount of memory.\n",
      "  \"Converting sparse IndexedSlices to a dense Tensor of unknown shape. \"\n"
     ]
    },
    {
     "name": "stdout",
     "output_type": "stream",
     "text": [
      "Train on 192223 samples, validate on 64087 samples\n"
     ]
    }
   ],
   "source": [
    "for EMBED_SIZE in EMBED_SIZES:\n",
    "    for DROPOUT_SIZE in DROPOUT_SIZES:\n",
    "        for GRU_SIZE in GRU_SIZES:\n",
    "            for GRU_LAYERS in GRU_LAYER_SIZES:\n",
    "                # -------------- MODEL NAMING --------------\n",
    "                NAME = 'BiGRU-{}E-{}x{}G-{}Dropout-{}.hdf5'.format(EMBED_SIZE,\n",
    "                                                                         GRU_LAYERS,GRU_SIZE,\n",
    "                                                                         DROPOUT_SIZE,\n",
    "                                                                         time.time())\n",
    "                print('Creating {}'.format(NAME))\n",
    "                MODEL_LOG_DIR = os.path.join(LOG_DIR,NAME)\n",
    "\n",
    "                # -------------- Callbacks --------------\n",
    "                # access tensorboard from the command line: tensorboard --logdir=logs/\n",
    "                tensorboard = TensorBoard(log_dir=MODEL_LOG_DIR) \n",
    "                checkpointer = ModelCheckpoint(MODEL_DIR+NAME, \n",
    "                                               monitor='val_accuracy', \n",
    "                                               verbose=1, \n",
    "                                               save_best_only=True, \n",
    "                                               mode='auto')\n",
    "                earlystop = EarlyStopping(monitor='val_loss', patience=PATIENCE)\n",
    "\n",
    "                callbacks=[tensorboard,checkpointer,earlystop]\n",
    "\n",
    "                # -------------- EN MODEL CREATION --------------\n",
    "                EN_INPUT = Input(shape=(EN_SENTENCE_SIZE*2,))\n",
    "                EN_MODEL = Reshape((-1,2,EN_SENTENCE_SIZE))(EN_INPUT)\n",
    "                EN_MODEL = Embedding(en_vocab_size,\n",
    "                                EMBED_SIZE,\n",
    "                                input_shape=(2,EN_SENTENCE_SIZE),\n",
    "                                trainable=True)(EN_MODEL)\n",
    "                EN_MODEL = Reshape((2,EN_SENTENCE_SIZE*EMBED_SIZE,))(EN_MODEL)\n",
    "                \n",
    "                if DROPOUT_SIZE[0] > 0: EN_MODEL = SpatialDropout1D(DROPOUT_SIZE[0])(EN_MODEL)\n",
    "                for layer in range(GRU_LAYERS-1):\n",
    "                    EN_MODEL = Bidirectional(GRU(GRU_SIZE,\n",
    "                                                  return_sequences=True, \n",
    "                                                  recurrent_dropout=DROPOUT_SIZE[1]))(EN_MODEL)\n",
    "                EN_MODEL = Bidirectional(GRU(GRU_SIZE,\n",
    "                                              return_sequences=True,\n",
    "                                              recurrent_dropout=DROPOUT_SIZE[1]))(EN_MODEL)\n",
    "    \n",
    "                # -------------- ZH MODEL CREATION --------------\n",
    "                ZH_INPUT = Input(shape=(ZH_SENTENCE_SIZE*2,))\n",
    "                ZH_MODEL = Reshape((-1,2,ZH_SENTENCE_SIZE))(ZH_INPUT)\n",
    "                ZH_MODEL = Embedding(zh_vocab_size,\n",
    "                                EMBED_SIZE,\n",
    "                                input_shape=(2,ZH_SENTENCE_SIZE),\n",
    "                                trainable=True)(ZH_MODEL)\n",
    "                ZH_MODEL = Reshape((2,ZH_SENTENCE_SIZE*EMBED_SIZE,))(ZH_MODEL)\n",
    "                \n",
    "                if DROPOUT_SIZE[0] > 0: ZH_MODEL = SpatialDropout1D(DROPOUT_SIZE[0])(ZH_MODEL)\n",
    "                for layer in range(GRU_LAYERS-1):\n",
    "                    ZH_MODEL = Bidirectional(GRU(GRU_SIZE,\n",
    "                                                  return_sequences=True, \n",
    "                                                  recurrent_dropout=DROPOUT_SIZE[1]))(ZH_MODEL)\n",
    "                ZH_MODEL = Bidirectional(GRU(GRU_SIZE,\n",
    "                                              return_sequences=True,\n",
    "                                              recurrent_dropout=DROPOUT_SIZE[1]))(ZH_MODEL)\n",
    "                    \n",
    "                # -------------- MERGE MODEL --------------\n",
    "                merged = Concatenate(1)([EN_MODEL,ZH_MODEL])\n",
    "                merged = GRU(GRU_SIZE,\n",
    "                              return_sequences=True,\n",
    "                              recurrent_dropout=DROPOUT_SIZE[1])(merged)\n",
    "                merged = Flatten()(merged)\n",
    "                merged = Dense(3, activation='softmax')(merged)\n",
    "\n",
    "                model = Model(inputs=[EN_INPUT,ZH_INPUT], outputs=merged)\n",
    "                model.compile(optimizer=optimizer, loss=loss,metrics=metrics)\n",
    "\n",
    "                # -------------- Training the model --------------\n",
    "                model.fit([EN_X_train,ZH_X_train], y_train,\n",
    "                          epochs=epochs,\n",
    "                          batch_size=batch_size,\n",
    "                          validation_data=([EN_X_test,ZH_X_test], y_test),\n",
    "                          callbacks=callbacks,\n",
    "                          class_weight=class_weights)"
   ]
  }
 ],
 "metadata": {
  "kernelspec": {
   "display_name": "Python 3",
   "language": "python",
   "name": "python3"
  },
  "language_info": {
   "codemirror_mode": {
    "name": "ipython",
    "version": 3
   },
   "file_extension": ".py",
   "mimetype": "text/x-python",
   "name": "python",
   "nbconvert_exporter": "python",
   "pygments_lexer": "ipython3",
   "version": "3.7.3"
  }
 },
 "nbformat": 4,
 "nbformat_minor": 2
}
